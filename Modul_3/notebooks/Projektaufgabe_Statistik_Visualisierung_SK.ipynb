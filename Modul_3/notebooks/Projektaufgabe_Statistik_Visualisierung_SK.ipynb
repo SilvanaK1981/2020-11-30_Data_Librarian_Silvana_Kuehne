{
 "cells": [
  {
   "cell_type": "code",
   "execution_count": 7,
   "metadata": {},
   "outputs": [],
   "source": [
    "import pandas as pd\n",
    "import matplotlib.pyplot as plt\n",
    "import seaborn as sns\n",
    "import numpy as np\n",
    "%matplotlib inline\n",
    "sns.set()\n",
    "\n",
    "# use sample to generate a random subsample\n",
    "df = pd.read_csv(\"../data/Library_Usage.csv\")"
   ]
  },
  {
   "cell_type": "code",
   "execution_count": 8,
   "metadata": {},
   "outputs": [
    {
     "data": {
      "text/plain": [
       "68590995"
      ]
     },
     "execution_count": 8,
     "metadata": {},
     "output_type": "execute_result"
    }
   ],
   "source": [
    "df['Total Checkouts'].sum()"
   ]
  },
  {
   "cell_type": "code",
   "execution_count": 9,
   "metadata": {},
   "outputs": [
    {
     "data": {
      "text/html": [
       "<div>\n",
       "<style scoped>\n",
       "    .dataframe tbody tr th:only-of-type {\n",
       "        vertical-align: middle;\n",
       "    }\n",
       "\n",
       "    .dataframe tbody tr th {\n",
       "        vertical-align: top;\n",
       "    }\n",
       "\n",
       "    .dataframe thead th {\n",
       "        text-align: right;\n",
       "    }\n",
       "</style>\n",
       "<table border=\"1\" class=\"dataframe\">\n",
       "  <thead>\n",
       "    <tr style=\"text-align: right;\">\n",
       "      <th>col_0</th>\n",
       "      <th>68590995</th>\n",
       "      <th>All</th>\n",
       "    </tr>\n",
       "    <tr>\n",
       "      <th>Age Range</th>\n",
       "      <th></th>\n",
       "      <th></th>\n",
       "    </tr>\n",
       "  </thead>\n",
       "  <tbody>\n",
       "    <tr>\n",
       "      <td>0 to 9 years</td>\n",
       "      <td>38242</td>\n",
       "      <td>38242</td>\n",
       "    </tr>\n",
       "    <tr>\n",
       "      <td>10 to 19 years</td>\n",
       "      <td>58944</td>\n",
       "      <td>58944</td>\n",
       "    </tr>\n",
       "    <tr>\n",
       "      <td>20 to 24 years</td>\n",
       "      <td>29761</td>\n",
       "      <td>29761</td>\n",
       "    </tr>\n",
       "    <tr>\n",
       "      <td>25 to 34 years</td>\n",
       "      <td>91083</td>\n",
       "      <td>91083</td>\n",
       "    </tr>\n",
       "    <tr>\n",
       "      <td>35 to 44 years</td>\n",
       "      <td>67390</td>\n",
       "      <td>67390</td>\n",
       "    </tr>\n",
       "    <tr>\n",
       "      <td>45 to 54 years</td>\n",
       "      <td>52492</td>\n",
       "      <td>52492</td>\n",
       "    </tr>\n",
       "    <tr>\n",
       "      <td>55 to 59 years</td>\n",
       "      <td>21230</td>\n",
       "      <td>21230</td>\n",
       "    </tr>\n",
       "    <tr>\n",
       "      <td>60 to 64 years</td>\n",
       "      <td>19800</td>\n",
       "      <td>19800</td>\n",
       "    </tr>\n",
       "    <tr>\n",
       "      <td>65 to 74 years</td>\n",
       "      <td>30141</td>\n",
       "      <td>30141</td>\n",
       "    </tr>\n",
       "    <tr>\n",
       "      <td>75 years and over</td>\n",
       "      <td>14150</td>\n",
       "      <td>14150</td>\n",
       "    </tr>\n",
       "    <tr>\n",
       "      <td>All</td>\n",
       "      <td>423233</td>\n",
       "      <td>423233</td>\n",
       "    </tr>\n",
       "  </tbody>\n",
       "</table>\n",
       "</div>"
      ],
      "text/plain": [
       "col_0              68590995     All\n",
       "Age Range                          \n",
       "0 to 9 years          38242   38242\n",
       "10 to 19 years        58944   58944\n",
       "20 to 24 years        29761   29761\n",
       "25 to 34 years        91083   91083\n",
       "35 to 44 years        67390   67390\n",
       "45 to 54 years        52492   52492\n",
       "55 to 59 years        21230   21230\n",
       "60 to 64 years        19800   19800\n",
       "65 to 74 years        30141   30141\n",
       "75 years and over     14150   14150\n",
       "All                  423233  423233"
      ]
     },
     "execution_count": 9,
     "metadata": {},
     "output_type": "execute_result"
    }
   ],
   "source": [
    "#Frage 1: Welche Altersgruppe hat die höchsten Entleihungen?\n",
    "#Gib mir das Ganze in Prozent aus.\n",
    "# Wie mache ich das? --> Variable \"Age Range\" + Variable \"Total Checkouts\" counted oder summiert?\n",
    "pd.crosstab(\n",
    "    df['Age Range'],\n",
    "    [df['Total Checkouts'].sum()],\n",
    "    margins=True\n",
    ")"
   ]
  },
  {
   "cell_type": "code",
   "execution_count": 10,
   "metadata": {},
   "outputs": [
    {
     "data": {
      "text/html": [
       "<div>\n",
       "<style scoped>\n",
       "    .dataframe tbody tr th:only-of-type {\n",
       "        vertical-align: middle;\n",
       "    }\n",
       "\n",
       "    .dataframe tbody tr th {\n",
       "        vertical-align: top;\n",
       "    }\n",
       "\n",
       "    .dataframe thead th {\n",
       "        text-align: right;\n",
       "    }\n",
       "</style>\n",
       "<table border=\"1\" class=\"dataframe\">\n",
       "  <thead>\n",
       "    <tr style=\"text-align: right;\">\n",
       "      <th>col_0</th>\n",
       "      <th>68590995</th>\n",
       "      <th>All</th>\n",
       "    </tr>\n",
       "    <tr>\n",
       "      <th>Age Range</th>\n",
       "      <th></th>\n",
       "      <th></th>\n",
       "    </tr>\n",
       "  </thead>\n",
       "  <tbody>\n",
       "    <tr>\n",
       "      <td>0 to 9 years</td>\n",
       "      <td>0.090357</td>\n",
       "      <td>0.090357</td>\n",
       "    </tr>\n",
       "    <tr>\n",
       "      <td>10 to 19 years</td>\n",
       "      <td>0.139271</td>\n",
       "      <td>0.139271</td>\n",
       "    </tr>\n",
       "    <tr>\n",
       "      <td>20 to 24 years</td>\n",
       "      <td>0.070318</td>\n",
       "      <td>0.070318</td>\n",
       "    </tr>\n",
       "    <tr>\n",
       "      <td>25 to 34 years</td>\n",
       "      <td>0.215208</td>\n",
       "      <td>0.215208</td>\n",
       "    </tr>\n",
       "    <tr>\n",
       "      <td>35 to 44 years</td>\n",
       "      <td>0.159227</td>\n",
       "      <td>0.159227</td>\n",
       "    </tr>\n",
       "    <tr>\n",
       "      <td>45 to 54 years</td>\n",
       "      <td>0.124026</td>\n",
       "      <td>0.124026</td>\n",
       "    </tr>\n",
       "    <tr>\n",
       "      <td>55 to 59 years</td>\n",
       "      <td>0.050161</td>\n",
       "      <td>0.050161</td>\n",
       "    </tr>\n",
       "    <tr>\n",
       "      <td>60 to 64 years</td>\n",
       "      <td>0.046783</td>\n",
       "      <td>0.046783</td>\n",
       "    </tr>\n",
       "    <tr>\n",
       "      <td>65 to 74 years</td>\n",
       "      <td>0.071216</td>\n",
       "      <td>0.071216</td>\n",
       "    </tr>\n",
       "    <tr>\n",
       "      <td>75 years and over</td>\n",
       "      <td>0.033433</td>\n",
       "      <td>0.033433</td>\n",
       "    </tr>\n",
       "  </tbody>\n",
       "</table>\n",
       "</div>"
      ],
      "text/plain": [
       "col_0              68590995       All\n",
       "Age Range                            \n",
       "0 to 9 years       0.090357  0.090357\n",
       "10 to 19 years     0.139271  0.139271\n",
       "20 to 24 years     0.070318  0.070318\n",
       "25 to 34 years     0.215208  0.215208\n",
       "35 to 44 years     0.159227  0.159227\n",
       "45 to 54 years     0.124026  0.124026\n",
       "55 to 59 years     0.050161  0.050161\n",
       "60 to 64 years     0.046783  0.046783\n",
       "65 to 74 years     0.071216  0.071216\n",
       "75 years and over  0.033433  0.033433"
      ]
     },
     "execution_count": 10,
     "metadata": {},
     "output_type": "execute_result"
    }
   ],
   "source": [
    "#Und jetzt die Prozentangabe\n",
    "pd.crosstab(\n",
    "    df['Age Range'],\n",
    "    [df['Total Checkouts'].sum()],\n",
    "    margins=True, normalize=1\n",
    ")\n",
    "#Visualisierung krieg ich für diese Frage nicht hin ... ich bin zu blöd, wenn Zeit ist, nochmal nachlesen!!!"
   ]
  },
  {
   "cell_type": "code",
   "execution_count": 11,
   "metadata": {},
   "outputs": [
    {
     "data": {
      "text/plain": [
       "25 to 34 years       91083\n",
       "35 to 44 years       67390\n",
       "10 to 19 years       58944\n",
       "45 to 54 years       52492\n",
       "0 to 9 years         38242\n",
       "65 to 74 years       30141\n",
       "20 to 24 years       29761\n",
       "55 to 59 years       21230\n",
       "60 to 64 years       19800\n",
       "75 years and over    14150\n",
       "Name: Age Range, dtype: int64"
      ]
     },
     "execution_count": 11,
     "metadata": {},
     "output_type": "execute_result"
    }
   ],
   "source": [
    "#Frage 2: Wie hoch ist der Anteil an Kindern unter allen Nutzern? --> Kinder hier def. >20 Jahre, da so gruppiert\n",
    "#muss ich denn nicht hier vorher noch sauber machen?\n",
    "df['Age Range'].value_counts()"
   ]
  },
  {
   "cell_type": "code",
   "execution_count": 12,
   "metadata": {},
   "outputs": [
    {
     "data": {
      "text/plain": [
       "97186"
      ]
     },
     "execution_count": 12,
     "metadata": {},
     "output_type": "execute_result"
    }
   ],
   "source": [
    "#Nutzergruppen zusammenziehen, die Kind zugerechnet werden\n",
    "df['Age Range'].isin(['0 to 9 years', '10 to 19 years']).sum()"
   ]
  },
  {
   "cell_type": "code",
   "execution_count": 14,
   "metadata": {},
   "outputs": [
    {
     "data": {
      "text/plain": [
       "<matplotlib.axes._subplots.AxesSubplot at 0x7f9392e0df90>"
      ]
     },
     "execution_count": 14,
     "metadata": {},
     "output_type": "execute_result"
    },
    {
     "data": {
      "image/png": "[encoded data removed]",
      "text/plain": [
       "<Figure size 432x288 with 1 Axes>"
      ]
     },
     "metadata": {
      "needs_background": "light"
     },
     "output_type": "display_data"
    }
   ],
   "source": [
    "#Visualisierung der Altersgruppen allgemein\n",
    "sns.countplot(y='Age Range',\n",
    "               data=df,\n",
    "               palette=\"Greens_d\"\n",
    ")"
   ]
  },
  {
   "cell_type": "code",
   "execution_count": 40,
   "metadata": {},
   "outputs": [
    {
     "data": {
      "text/html": [
       "<div>\n",
       "<style scoped>\n",
       "    .dataframe tbody tr th:only-of-type {\n",
       "        vertical-align: middle;\n",
       "    }\n",
       "\n",
       "    .dataframe tbody tr th {\n",
       "        vertical-align: top;\n",
       "    }\n",
       "\n",
       "    .dataframe thead th {\n",
       "        text-align: right;\n",
       "    }\n",
       "</style>\n",
       "<table border=\"1\" class=\"dataframe\">\n",
       "  <thead>\n",
       "    <tr style=\"text-align: right;\">\n",
       "      <th></th>\n",
       "      <th>Patron Type Code</th>\n",
       "      <th>Patron Type Definition</th>\n",
       "      <th>Total Checkouts</th>\n",
       "      <th>Total Renewals</th>\n",
       "      <th>Age Range</th>\n",
       "      <th>Home Library Code</th>\n",
       "      <th>Home Library Definition</th>\n",
       "      <th>Circulation Active Month</th>\n",
       "      <th>Circulation Active Year</th>\n",
       "      <th>Notice Preference Code</th>\n",
       "      <th>Notice Preference Definition</th>\n",
       "      <th>Provided Email Address</th>\n",
       "      <th>Year Patron Registered</th>\n",
       "      <th>Outside of County</th>\n",
       "      <th>Supervisor District</th>\n",
       "    </tr>\n",
       "  </thead>\n",
       "  <tbody>\n",
       "    <tr>\n",
       "      <td>0</td>\n",
       "      <td>0</td>\n",
       "      <td>ADULT</td>\n",
       "      <td>0</td>\n",
       "      <td>0</td>\n",
       "      <td>20 to 24 years</td>\n",
       "      <td>P1</td>\n",
       "      <td>Park</td>\n",
       "      <td>NaN</td>\n",
       "      <td>NaN</td>\n",
       "      <td>z</td>\n",
       "      <td>email</td>\n",
       "      <td>True</td>\n",
       "      <td>2014</td>\n",
       "      <td>False</td>\n",
       "      <td>5.0</td>\n",
       "    </tr>\n",
       "    <tr>\n",
       "      <td>1</td>\n",
       "      <td>0</td>\n",
       "      <td>ADULT</td>\n",
       "      <td>31</td>\n",
       "      <td>22</td>\n",
       "      <td>25 to 34 years</td>\n",
       "      <td>S7</td>\n",
       "      <td>Sunset</td>\n",
       "      <td>April</td>\n",
       "      <td>2016.0</td>\n",
       "      <td>z</td>\n",
       "      <td>email</td>\n",
       "      <td>True</td>\n",
       "      <td>2010</td>\n",
       "      <td>False</td>\n",
       "      <td>4.0</td>\n",
       "    </tr>\n",
       "    <tr>\n",
       "      <td>2</td>\n",
       "      <td>0</td>\n",
       "      <td>ADULT</td>\n",
       "      <td>0</td>\n",
       "      <td>0</td>\n",
       "      <td>45 to 54 years</td>\n",
       "      <td>P1</td>\n",
       "      <td>Park</td>\n",
       "      <td>NaN</td>\n",
       "      <td>NaN</td>\n",
       "      <td>a</td>\n",
       "      <td>print</td>\n",
       "      <td>False</td>\n",
       "      <td>2016</td>\n",
       "      <td>True</td>\n",
       "      <td>NaN</td>\n",
       "    </tr>\n",
       "    <tr>\n",
       "      <td>3</td>\n",
       "      <td>0</td>\n",
       "      <td>ADULT</td>\n",
       "      <td>0</td>\n",
       "      <td>0</td>\n",
       "      <td>25 to 34 years</td>\n",
       "      <td>X</td>\n",
       "      <td>Main Library</td>\n",
       "      <td>NaN</td>\n",
       "      <td>NaN</td>\n",
       "      <td>z</td>\n",
       "      <td>email</td>\n",
       "      <td>True</td>\n",
       "      <td>2015</td>\n",
       "      <td>False</td>\n",
       "      <td>3.0</td>\n",
       "    </tr>\n",
       "    <tr>\n",
       "      <td>4</td>\n",
       "      <td>0</td>\n",
       "      <td>ADULT</td>\n",
       "      <td>126</td>\n",
       "      <td>11</td>\n",
       "      <td>45 to 54 years</td>\n",
       "      <td>M2</td>\n",
       "      <td>Marina</td>\n",
       "      <td>January</td>\n",
       "      <td>2016.0</td>\n",
       "      <td>z</td>\n",
       "      <td>email</td>\n",
       "      <td>True</td>\n",
       "      <td>2003</td>\n",
       "      <td>False</td>\n",
       "      <td>2.0</td>\n",
       "    </tr>\n",
       "  </tbody>\n",
       "</table>\n",
       "</div>"
      ],
      "text/plain": [
       "   Patron Type Code Patron Type Definition  Total Checkouts  Total Renewals  \\\n",
       "0                 0                  ADULT                0               0   \n",
       "1                 0                  ADULT               31              22   \n",
       "2                 0                  ADULT                0               0   \n",
       "3                 0                  ADULT                0               0   \n",
       "4                 0                  ADULT              126              11   \n",
       "\n",
       "        Age Range Home Library Code Home Library Definition  \\\n",
       "0  20 to 24 years                P1                    Park   \n",
       "1  25 to 34 years                S7                  Sunset   \n",
       "2  45 to 54 years                P1                    Park   \n",
       "3  25 to 34 years                 X            Main Library   \n",
       "4  45 to 54 years                M2                  Marina   \n",
       "\n",
       "  Circulation Active Month  Circulation Active Year Notice Preference Code  \\\n",
       "0                      NaN                      NaN                      z   \n",
       "1                    April                   2016.0                      z   \n",
       "2                      NaN                      NaN                      a   \n",
       "3                      NaN                      NaN                      z   \n",
       "4                  January                   2016.0                      z   \n",
       "\n",
       "  Notice Preference Definition  Provided Email Address  \\\n",
       "0                        email                    True   \n",
       "1                        email                    True   \n",
       "2                        print                   False   \n",
       "3                        email                    True   \n",
       "4                        email                    True   \n",
       "\n",
       "   Year Patron Registered  Outside of County  Supervisor District  \n",
       "0                    2014              False                  5.0  \n",
       "1                    2010              False                  4.0  \n",
       "2                    2016               True                  NaN  \n",
       "3                    2015              False                  3.0  \n",
       "4                    2003              False                  2.0  "
      ]
     },
     "execution_count": 40,
     "metadata": {},
     "output_type": "execute_result"
    }
   ],
   "source": [
    "#Saubermachen müssten man, wenn man das möchte, ganz am Anfang, bevor man startet\n",
    "# --> müsste ich einbauen, wenn ich das unbedingt will!!!\n",
    "df = pd.read_csv(\"../data/Library_Usage.csv\", na_values=\"None\")\n",
    "df.head()"
   ]
  },
  {
   "cell_type": "code",
   "execution_count": 41,
   "metadata": {},
   "outputs": [
    {
     "data": {
      "text/plain": [
       "Patron Type Code                     0\n",
       "Patron Type Definition               0\n",
       "Total Checkouts                      0\n",
       "Total Renewals                       0\n",
       "Age Range                          215\n",
       "Home Library Code                   40\n",
       "Home Library Definition              0\n",
       "Circulation Active Month         67904\n",
       "Circulation Active Year          67904\n",
       "Notice Preference Code               0\n",
       "Notice Preference Definition         0\n",
       "Provided Email Address               0\n",
       "Year Patron Registered               0\n",
       "Outside of County                    0\n",
       "Supervisor District             110310\n",
       "dtype: int64"
      ]
     },
     "execution_count": 41,
     "metadata": {},
     "output_type": "execute_result"
    }
   ],
   "source": [
    "df.isna().sum()"
   ]
  },
  {
   "cell_type": "code",
   "execution_count": 18,
   "metadata": {},
   "outputs": [
    {
     "data": {
      "text/plain": [
       "0         False\n",
       "1         False\n",
       "2         False\n",
       "3         False\n",
       "4         False\n",
       "          ...  \n",
       "423443     True\n",
       "423444    False\n",
       "423445     True\n",
       "423446     True\n",
       "423447     True\n",
       "Name: is child, Length: 423448, dtype: bool"
      ]
     },
     "execution_count": 18,
     "metadata": {},
     "output_type": "execute_result"
    }
   ],
   "source": [
    "#neue Variable bilden is child\n",
    "df['is child'] = df['Age Range'].isin(['0 to 9 years', '10 to 19 years'])\n",
    "df['is child']"
   ]
  },
  {
   "cell_type": "code",
   "execution_count": 24,
   "metadata": {},
   "outputs": [
    {
     "data": {
      "text/plain": [
       "<seaborn.axisgrid.FacetGrid at 0x7f9381e29810>"
      ]
     },
     "execution_count": 24,
     "metadata": {},
     "output_type": "execute_result"
    },
    {
     "data": {
      "image/png": "[encoded data removed]",
      "text/plain": [
       "<Figure size 360x360 with 1 Axes>"
      ]
     },
     "metadata": {
      "needs_background": "light"
     },
     "output_type": "display_data"
    }
   ],
   "source": [
    "sns.catplot(x='is child',\n",
    "            data=df, kind='count', color=\"lightgreen\")"
   ]
  },
  {
   "cell_type": "code",
   "execution_count": 39,
   "metadata": {},
   "outputs": [
    {
     "data": {
      "text/plain": [
       "email    323937\n",
       "phone     68172\n",
       "print     31336\n",
       "none          3\n",
       "Name: Notice Preference Definition, dtype: int64"
      ]
     },
     "execution_count": 39,
     "metadata": {},
     "output_type": "execute_result"
    }
   ],
   "source": [
    "#Frage 3: Wie viele Nutzer lassen sich per Mail informieren? Wie viele per Post? \n",
    "#--> erstmal schauen, was es überhaupt alles gibt + Anzahl\n",
    "df['Notice Preference Definition'].value_counts()"
   ]
  },
  {
   "cell_type": "code",
   "execution_count": 54,
   "metadata": {},
   "outputs": [
    {
     "name": "stdout",
     "output_type": "stream",
     "text": [
      "323937\n"
     ]
    }
   ],
   "source": [
    "#Ausgabe nur Info per Mail\n",
    "print(len(df[df['Notice Preference Definition'] == 'email']))"
   ]
  },
  {
   "cell_type": "code",
   "execution_count": 55,
   "metadata": {},
   "outputs": [
    {
     "name": "stdout",
     "output_type": "stream",
     "text": [
      "31336\n"
     ]
    }
   ],
   "source": [
    "#Ausgabe nur Info per Post\n",
    "print(len(df[df['Notice Preference Definition'] == 'print']))"
   ]
  },
  {
   "cell_type": "code",
   "execution_count": 61,
   "metadata": {},
   "outputs": [
    {
     "data": {
      "text/plain": [
       "<matplotlib.axes._subplots.AxesSubplot at 0x7f936c862810>"
      ]
     },
     "execution_count": 61,
     "metadata": {},
     "output_type": "execute_result"
    },
    {
     "data": {
      "image/png": "[encoded data removed]",
      "text/plain": [
       "<Figure size 432x288 with 1 Axes>"
      ]
     },
     "metadata": {
      "needs_background": "light"
     },
     "output_type": "display_data"
    }
   ],
   "source": [
    "#Visualiserung der Benachrichtigungsform\n",
    "sns.countplot(x='Notice Preference Definition',\n",
    "               data=df,\n",
    "               palette=\"Blues_d\"\n",
    ")"
   ]
  },
  {
   "cell_type": "code",
   "execution_count": 35,
   "metadata": {},
   "outputs": [
    {
     "data": {
      "text/html": [
       "<div>\n",
       "<style scoped>\n",
       "    .dataframe tbody tr th:only-of-type {\n",
       "        vertical-align: middle;\n",
       "    }\n",
       "\n",
       "    .dataframe tbody tr th {\n",
       "        vertical-align: top;\n",
       "    }\n",
       "\n",
       "    .dataframe thead th {\n",
       "        text-align: right;\n",
       "    }\n",
       "</style>\n",
       "<table border=\"1\" class=\"dataframe\">\n",
       "  <thead>\n",
       "    <tr style=\"text-align: right;\">\n",
       "      <th>Patron Type Definition</th>\n",
       "      <th>ADULT</th>\n",
       "      <th>AT USER ADULT</th>\n",
       "      <th>AT USER JUVENILE</th>\n",
       "      <th>AT USER SENIOR</th>\n",
       "      <th>AT USER TEEN</th>\n",
       "      <th>AT USER WELCOME</th>\n",
       "      <th>BOOKS BY MAIL</th>\n",
       "      <th>DIGITAL ACCESS CARD</th>\n",
       "      <th>FRIENDS FOR LIFE</th>\n",
       "      <th>JUVENILE</th>\n",
       "      <th>RETIRED STAFF</th>\n",
       "      <th>SENIOR</th>\n",
       "      <th>SPECIAL</th>\n",
       "      <th>STAFF</th>\n",
       "      <th>TEACHER CARD</th>\n",
       "      <th>VISITOR</th>\n",
       "      <th>WELCOME</th>\n",
       "      <th>YOUNG ADULT</th>\n",
       "      <th>All</th>\n",
       "    </tr>\n",
       "    <tr>\n",
       "      <th>Notice Preference Definition</th>\n",
       "      <th></th>\n",
       "      <th></th>\n",
       "      <th></th>\n",
       "      <th></th>\n",
       "      <th></th>\n",
       "      <th></th>\n",
       "      <th></th>\n",
       "      <th></th>\n",
       "      <th></th>\n",
       "      <th></th>\n",
       "      <th></th>\n",
       "      <th></th>\n",
       "      <th></th>\n",
       "      <th></th>\n",
       "      <th></th>\n",
       "      <th></th>\n",
       "      <th></th>\n",
       "      <th></th>\n",
       "      <th></th>\n",
       "    </tr>\n",
       "  </thead>\n",
       "  <tbody>\n",
       "    <tr>\n",
       "      <td>email</td>\n",
       "      <td>223579</td>\n",
       "      <td>250</td>\n",
       "      <td>34</td>\n",
       "      <td>31</td>\n",
       "      <td>31</td>\n",
       "      <td>33</td>\n",
       "      <td>47</td>\n",
       "      <td>964</td>\n",
       "      <td>24</td>\n",
       "      <td>40263</td>\n",
       "      <td>123</td>\n",
       "      <td>25220</td>\n",
       "      <td>352</td>\n",
       "      <td>794</td>\n",
       "      <td>1647</td>\n",
       "      <td>360</td>\n",
       "      <td>11604</td>\n",
       "      <td>18581</td>\n",
       "      <td>323937</td>\n",
       "    </tr>\n",
       "    <tr>\n",
       "      <td>none</td>\n",
       "      <td>1</td>\n",
       "      <td>0</td>\n",
       "      <td>0</td>\n",
       "      <td>0</td>\n",
       "      <td>0</td>\n",
       "      <td>0</td>\n",
       "      <td>0</td>\n",
       "      <td>0</td>\n",
       "      <td>0</td>\n",
       "      <td>2</td>\n",
       "      <td>0</td>\n",
       "      <td>0</td>\n",
       "      <td>0</td>\n",
       "      <td>0</td>\n",
       "      <td>0</td>\n",
       "      <td>0</td>\n",
       "      <td>0</td>\n",
       "      <td>0</td>\n",
       "      <td>3</td>\n",
       "    </tr>\n",
       "    <tr>\n",
       "      <td>phone</td>\n",
       "      <td>33425</td>\n",
       "      <td>63</td>\n",
       "      <td>7</td>\n",
       "      <td>26</td>\n",
       "      <td>4</td>\n",
       "      <td>5</td>\n",
       "      <td>25</td>\n",
       "      <td>173</td>\n",
       "      <td>11</td>\n",
       "      <td>12583</td>\n",
       "      <td>28</td>\n",
       "      <td>12072</td>\n",
       "      <td>292</td>\n",
       "      <td>33</td>\n",
       "      <td>97</td>\n",
       "      <td>32</td>\n",
       "      <td>1751</td>\n",
       "      <td>7545</td>\n",
       "      <td>68172</td>\n",
       "    </tr>\n",
       "    <tr>\n",
       "      <td>print</td>\n",
       "      <td>15246</td>\n",
       "      <td>36</td>\n",
       "      <td>6</td>\n",
       "      <td>9</td>\n",
       "      <td>9</td>\n",
       "      <td>7</td>\n",
       "      <td>23</td>\n",
       "      <td>607</td>\n",
       "      <td>5</td>\n",
       "      <td>6360</td>\n",
       "      <td>6</td>\n",
       "      <td>4327</td>\n",
       "      <td>333</td>\n",
       "      <td>35</td>\n",
       "      <td>38</td>\n",
       "      <td>23</td>\n",
       "      <td>1576</td>\n",
       "      <td>2690</td>\n",
       "      <td>31336</td>\n",
       "    </tr>\n",
       "    <tr>\n",
       "      <td>All</td>\n",
       "      <td>272251</td>\n",
       "      <td>349</td>\n",
       "      <td>47</td>\n",
       "      <td>66</td>\n",
       "      <td>44</td>\n",
       "      <td>45</td>\n",
       "      <td>95</td>\n",
       "      <td>1744</td>\n",
       "      <td>40</td>\n",
       "      <td>59208</td>\n",
       "      <td>157</td>\n",
       "      <td>41619</td>\n",
       "      <td>977</td>\n",
       "      <td>862</td>\n",
       "      <td>1782</td>\n",
       "      <td>415</td>\n",
       "      <td>14931</td>\n",
       "      <td>28816</td>\n",
       "      <td>423448</td>\n",
       "    </tr>\n",
       "  </tbody>\n",
       "</table>\n",
       "</div>"
      ],
      "text/plain": [
       "Patron Type Definition         ADULT  AT USER ADULT  AT USER JUVENILE  \\\n",
       "Notice Preference Definition                                            \n",
       "email                         223579            250                34   \n",
       "none                               1              0                 0   \n",
       "phone                          33425             63                 7   \n",
       "print                          15246             36                 6   \n",
       "All                           272251            349                47   \n",
       "\n",
       "Patron Type Definition        AT USER SENIOR  AT USER TEEN  AT USER WELCOME  \\\n",
       "Notice Preference Definition                                                  \n",
       "email                                     31            31               33   \n",
       "none                                       0             0                0   \n",
       "phone                                     26             4                5   \n",
       "print                                      9             9                7   \n",
       "All                                       66            44               45   \n",
       "\n",
       "Patron Type Definition        BOOKS BY MAIL  DIGITAL ACCESS CARD  \\\n",
       "Notice Preference Definition                                       \n",
       "email                                    47                  964   \n",
       "none                                      0                    0   \n",
       "phone                                    25                  173   \n",
       "print                                    23                  607   \n",
       "All                                      95                 1744   \n",
       "\n",
       "Patron Type Definition        FRIENDS FOR LIFE  JUVENILE  RETIRED STAFF  \\\n",
       "Notice Preference Definition                                              \n",
       "email                                       24     40263            123   \n",
       "none                                         0         2              0   \n",
       "phone                                       11     12583             28   \n",
       "print                                        5      6360              6   \n",
       "All                                         40     59208            157   \n",
       "\n",
       "Patron Type Definition        SENIOR  SPECIAL  STAFF  TEACHER CARD  VISITOR  \\\n",
       "Notice Preference Definition                                                  \n",
       "email                          25220      352    794          1647      360   \n",
       "none                               0        0      0             0        0   \n",
       "phone                          12072      292     33            97       32   \n",
       "print                           4327      333     35            38       23   \n",
       "All                            41619      977    862          1782      415   \n",
       "\n",
       "Patron Type Definition        WELCOME  YOUNG ADULT     All  \n",
       "Notice Preference Definition                                \n",
       "email                           11604        18581  323937  \n",
       "none                                0            0       3  \n",
       "phone                            1751         7545   68172  \n",
       "print                            1576         2690   31336  \n",
       "All                             14931        28816  423448  "
      ]
     },
     "execution_count": 35,
     "metadata": {},
     "output_type": "execute_result"
    }
   ],
   "source": [
    "#Frage 4: Welche Benutzergruppe nutzt am häufigsten die Benachrichtigungsoption E-Mail?\n",
    "pd.crosstab(\n",
    "    df['Notice Preference Definition'],\n",
    "    df['Patron Type Definition'],\n",
    "    margins=True\n",
    ")"
   ]
  },
  {
   "cell_type": "code",
   "execution_count": 36,
   "metadata": {},
   "outputs": [
    {
     "data": {
      "text/html": [
       "<div>\n",
       "<style scoped>\n",
       "    .dataframe tbody tr th:only-of-type {\n",
       "        vertical-align: middle;\n",
       "    }\n",
       "\n",
       "    .dataframe tbody tr th {\n",
       "        vertical-align: top;\n",
       "    }\n",
       "\n",
       "    .dataframe thead th {\n",
       "        text-align: right;\n",
       "    }\n",
       "</style>\n",
       "<table border=\"1\" class=\"dataframe\">\n",
       "  <thead>\n",
       "    <tr style=\"text-align: right;\">\n",
       "      <th>Patron Type Definition</th>\n",
       "      <th>ADULT</th>\n",
       "      <th>AT USER ADULT</th>\n",
       "      <th>AT USER JUVENILE</th>\n",
       "      <th>AT USER SENIOR</th>\n",
       "      <th>AT USER TEEN</th>\n",
       "      <th>AT USER WELCOME</th>\n",
       "      <th>BOOKS BY MAIL</th>\n",
       "      <th>DIGITAL ACCESS CARD</th>\n",
       "      <th>FRIENDS FOR LIFE</th>\n",
       "      <th>JUVENILE</th>\n",
       "      <th>RETIRED STAFF</th>\n",
       "      <th>SENIOR</th>\n",
       "      <th>SPECIAL</th>\n",
       "      <th>STAFF</th>\n",
       "      <th>TEACHER CARD</th>\n",
       "      <th>VISITOR</th>\n",
       "      <th>WELCOME</th>\n",
       "      <th>YOUNG ADULT</th>\n",
       "      <th>All</th>\n",
       "    </tr>\n",
       "    <tr>\n",
       "      <th>Notice Preference Definition</th>\n",
       "      <th></th>\n",
       "      <th></th>\n",
       "      <th></th>\n",
       "      <th></th>\n",
       "      <th></th>\n",
       "      <th></th>\n",
       "      <th></th>\n",
       "      <th></th>\n",
       "      <th></th>\n",
       "      <th></th>\n",
       "      <th></th>\n",
       "      <th></th>\n",
       "      <th></th>\n",
       "      <th></th>\n",
       "      <th></th>\n",
       "      <th></th>\n",
       "      <th></th>\n",
       "      <th></th>\n",
       "      <th></th>\n",
       "    </tr>\n",
       "  </thead>\n",
       "  <tbody>\n",
       "    <tr>\n",
       "      <td>email</td>\n",
       "      <td>0.821224</td>\n",
       "      <td>0.716332</td>\n",
       "      <td>0.723404</td>\n",
       "      <td>0.469697</td>\n",
       "      <td>0.704545</td>\n",
       "      <td>0.733333</td>\n",
       "      <td>0.494737</td>\n",
       "      <td>0.552752</td>\n",
       "      <td>0.600</td>\n",
       "      <td>0.680026</td>\n",
       "      <td>0.783439</td>\n",
       "      <td>0.605973</td>\n",
       "      <td>0.360287</td>\n",
       "      <td>0.921114</td>\n",
       "      <td>0.924242</td>\n",
       "      <td>0.867470</td>\n",
       "      <td>0.777175</td>\n",
       "      <td>0.644815</td>\n",
       "      <td>0.764998</td>\n",
       "    </tr>\n",
       "    <tr>\n",
       "      <td>none</td>\n",
       "      <td>0.000004</td>\n",
       "      <td>0.000000</td>\n",
       "      <td>0.000000</td>\n",
       "      <td>0.000000</td>\n",
       "      <td>0.000000</td>\n",
       "      <td>0.000000</td>\n",
       "      <td>0.000000</td>\n",
       "      <td>0.000000</td>\n",
       "      <td>0.000</td>\n",
       "      <td>0.000034</td>\n",
       "      <td>0.000000</td>\n",
       "      <td>0.000000</td>\n",
       "      <td>0.000000</td>\n",
       "      <td>0.000000</td>\n",
       "      <td>0.000000</td>\n",
       "      <td>0.000000</td>\n",
       "      <td>0.000000</td>\n",
       "      <td>0.000000</td>\n",
       "      <td>0.000007</td>\n",
       "    </tr>\n",
       "    <tr>\n",
       "      <td>phone</td>\n",
       "      <td>0.122773</td>\n",
       "      <td>0.180516</td>\n",
       "      <td>0.148936</td>\n",
       "      <td>0.393939</td>\n",
       "      <td>0.090909</td>\n",
       "      <td>0.111111</td>\n",
       "      <td>0.263158</td>\n",
       "      <td>0.099197</td>\n",
       "      <td>0.275</td>\n",
       "      <td>0.212522</td>\n",
       "      <td>0.178344</td>\n",
       "      <td>0.290060</td>\n",
       "      <td>0.298874</td>\n",
       "      <td>0.038283</td>\n",
       "      <td>0.054433</td>\n",
       "      <td>0.077108</td>\n",
       "      <td>0.117273</td>\n",
       "      <td>0.261834</td>\n",
       "      <td>0.160993</td>\n",
       "    </tr>\n",
       "    <tr>\n",
       "      <td>print</td>\n",
       "      <td>0.056000</td>\n",
       "      <td>0.103152</td>\n",
       "      <td>0.127660</td>\n",
       "      <td>0.136364</td>\n",
       "      <td>0.204545</td>\n",
       "      <td>0.155556</td>\n",
       "      <td>0.242105</td>\n",
       "      <td>0.348050</td>\n",
       "      <td>0.125</td>\n",
       "      <td>0.107418</td>\n",
       "      <td>0.038217</td>\n",
       "      <td>0.103967</td>\n",
       "      <td>0.340839</td>\n",
       "      <td>0.040603</td>\n",
       "      <td>0.021324</td>\n",
       "      <td>0.055422</td>\n",
       "      <td>0.105552</td>\n",
       "      <td>0.093351</td>\n",
       "      <td>0.074002</td>\n",
       "    </tr>\n",
       "  </tbody>\n",
       "</table>\n",
       "</div>"
      ],
      "text/plain": [
       "Patron Type Definition           ADULT  AT USER ADULT  AT USER JUVENILE  \\\n",
       "Notice Preference Definition                                              \n",
       "email                         0.821224       0.716332          0.723404   \n",
       "none                          0.000004       0.000000          0.000000   \n",
       "phone                         0.122773       0.180516          0.148936   \n",
       "print                         0.056000       0.103152          0.127660   \n",
       "\n",
       "Patron Type Definition        AT USER SENIOR  AT USER TEEN  AT USER WELCOME  \\\n",
       "Notice Preference Definition                                                  \n",
       "email                               0.469697      0.704545         0.733333   \n",
       "none                                0.000000      0.000000         0.000000   \n",
       "phone                               0.393939      0.090909         0.111111   \n",
       "print                               0.136364      0.204545         0.155556   \n",
       "\n",
       "Patron Type Definition        BOOKS BY MAIL  DIGITAL ACCESS CARD  \\\n",
       "Notice Preference Definition                                       \n",
       "email                              0.494737             0.552752   \n",
       "none                               0.000000             0.000000   \n",
       "phone                              0.263158             0.099197   \n",
       "print                              0.242105             0.348050   \n",
       "\n",
       "Patron Type Definition        FRIENDS FOR LIFE  JUVENILE  RETIRED STAFF  \\\n",
       "Notice Preference Definition                                              \n",
       "email                                    0.600  0.680026       0.783439   \n",
       "none                                     0.000  0.000034       0.000000   \n",
       "phone                                    0.275  0.212522       0.178344   \n",
       "print                                    0.125  0.107418       0.038217   \n",
       "\n",
       "Patron Type Definition          SENIOR   SPECIAL     STAFF  TEACHER CARD  \\\n",
       "Notice Preference Definition                                               \n",
       "email                         0.605973  0.360287  0.921114      0.924242   \n",
       "none                          0.000000  0.000000  0.000000      0.000000   \n",
       "phone                         0.290060  0.298874  0.038283      0.054433   \n",
       "print                         0.103967  0.340839  0.040603      0.021324   \n",
       "\n",
       "Patron Type Definition         VISITOR   WELCOME  YOUNG ADULT       All  \n",
       "Notice Preference Definition                                             \n",
       "email                         0.867470  0.777175     0.644815  0.764998  \n",
       "none                          0.000000  0.000000     0.000000  0.000007  \n",
       "phone                         0.077108  0.117273     0.261834  0.160993  \n",
       "print                         0.055422  0.105552     0.093351  0.074002  "
      ]
     },
     "execution_count": 36,
     "metadata": {},
     "output_type": "execute_result"
    }
   ],
   "source": [
    "#Frage 4: prozentual betrachtet\n",
    "pd.crosstab(\n",
    "    df['Notice Preference Definition'],\n",
    "    df['Patron Type Definition'],\n",
    "    margins=True, normalize=1\n",
    ")"
   ]
  },
  {
   "cell_type": "code",
   "execution_count": 38,
   "metadata": {},
   "outputs": [
    {
     "data": {
      "text/plain": [
       "<seaborn.axisgrid.FacetGrid at 0x7f936e59d7d0>"
      ]
     },
     "execution_count": 38,
     "metadata": {},
     "output_type": "execute_result"
    },
    {
     "data": {
      "image/png": "[encoded data removed]",
      "text/plain": [
       "<Figure size 525.1x360 with 1 Axes>"
      ]
     },
     "metadata": {
      "needs_background": "light"
     },
     "output_type": "display_data"
    }
   ],
   "source": [
    "sns.catplot(x='Notice Preference Definition', hue='Patron Type Definition', \n",
    "            data=df, kind='count')"
   ]
  },
  {
   "cell_type": "code",
   "execution_count": 63,
   "metadata": {},
   "outputs": [
    {
     "data": {
      "text/plain": [
       "59.657327464056976"
      ]
     },
     "execution_count": 63,
     "metadata": {},
     "output_type": "execute_result"
    }
   ],
   "source": [
    "#Frage 5: Welche Altersgruppe verlängert im Mittel wie oft? + Streuung dazu ansehen\n",
    "# Was muss ich mir dazu ansehen? --> mean\n",
    "\n",
    "df['Total Renewals'].mean()"
   ]
  },
  {
   "cell_type": "code",
   "execution_count": 120,
   "metadata": {},
   "outputs": [
    {
     "data": {
      "text/plain": [
       "Patron Type Code                  int64\n",
       "Patron Type Definition           object\n",
       "Total Checkouts                   int64\n",
       "Total Renewals                    int64\n",
       "Age Range                        object\n",
       "Home Library Code                object\n",
       "Home Library Definition          object\n",
       "Circulation Active Month         object\n",
       "Circulation Active Year         float64\n",
       "Notice Preference Code           object\n",
       "Notice Preference Definition     object\n",
       "Provided Email Address             bool\n",
       "Year Patron Registered            int64\n",
       "Outside of County                  bool\n",
       "Supervisor District             float64\n",
       "is age range summe              float64\n",
       "is total renewals mean          float64\n",
       "dtype: object"
      ]
     },
     "execution_count": 120,
     "metadata": {},
     "output_type": "execute_result"
    }
   ],
   "source": [
    "df.dtypes"
   ]
  },
  {
   "cell_type": "code",
   "execution_count": 74,
   "metadata": {},
   "outputs": [
    {
     "data": {
      "text/html": [
       "<div>\n",
       "<style scoped>\n",
       "    .dataframe tbody tr th:only-of-type {\n",
       "        vertical-align: middle;\n",
       "    }\n",
       "\n",
       "    .dataframe tbody tr th {\n",
       "        vertical-align: top;\n",
       "    }\n",
       "\n",
       "    .dataframe thead th {\n",
       "        text-align: right;\n",
       "    }\n",
       "</style>\n",
       "<table border=\"1\" class=\"dataframe\">\n",
       "  <thead>\n",
       "    <tr style=\"text-align: right;\">\n",
       "      <th>Age Range</th>\n",
       "      <th>0 to 9 years</th>\n",
       "      <th>10 to 19 years</th>\n",
       "      <th>20 to 24 years</th>\n",
       "      <th>25 to 34 years</th>\n",
       "      <th>35 to 44 years</th>\n",
       "      <th>45 to 54 years</th>\n",
       "      <th>55 to 59 years</th>\n",
       "      <th>60 to 64 years</th>\n",
       "      <th>65 to 74 years</th>\n",
       "      <th>75 years and over</th>\n",
       "    </tr>\n",
       "    <tr>\n",
       "      <th>row_0</th>\n",
       "      <th></th>\n",
       "      <th></th>\n",
       "      <th></th>\n",
       "      <th></th>\n",
       "      <th></th>\n",
       "      <th></th>\n",
       "      <th></th>\n",
       "      <th></th>\n",
       "      <th></th>\n",
       "      <th></th>\n",
       "    </tr>\n",
       "  </thead>\n",
       "  <tbody>\n",
       "    <tr>\n",
       "      <td>59.657327</td>\n",
       "      <td>38242</td>\n",
       "      <td>58944</td>\n",
       "      <td>29761</td>\n",
       "      <td>91083</td>\n",
       "      <td>67390</td>\n",
       "      <td>52492</td>\n",
       "      <td>21230</td>\n",
       "      <td>19800</td>\n",
       "      <td>30141</td>\n",
       "      <td>14150</td>\n",
       "    </tr>\n",
       "  </tbody>\n",
       "</table>\n",
       "</div>"
      ],
      "text/plain": [
       "Age Range  0 to 9 years  10 to 19 years  20 to 24 years  25 to 34 years  \\\n",
       "row_0                                                                     \n",
       "59.657327         38242           58944           29761           91083   \n",
       "\n",
       "Age Range  35 to 44 years  45 to 54 years  55 to 59 years  60 to 64 years  \\\n",
       "row_0                                                                       \n",
       "59.657327           67390           52492           21230           19800   \n",
       "\n",
       "Age Range  65 to 74 years  75 years and over  \n",
       "row_0                                         \n",
       "59.657327           30141              14150  "
      ]
     },
     "execution_count": 74,
     "metadata": {},
     "output_type": "execute_result"
    }
   ],
   "source": [
    "#Kreuztabelle zur Anzeige beider Werte macht Count --> Mist\n",
    "pd.crosstab(\n",
    "    [df['Total Renewals'].mean()],\n",
    "    df['Age Range']\n",
    ")"
   ]
  },
  {
   "cell_type": "code",
   "execution_count": 121,
   "metadata": {},
   "outputs": [
    {
     "name": "stdout",
     "output_type": "stream",
     "text": [
      "        Total Renewals       Age Range\n",
      "0                    0  20 to 24 years\n",
      "1                   22  25 to 34 years\n",
      "2                    0  45 to 54 years\n",
      "3                    0  25 to 34 years\n",
      "4                   11  45 to 54 years\n",
      "...                ...             ...\n",
      "423443              13  10 to 19 years\n",
      "423444              11  60 to 64 years\n",
      "423445              58    0 to 9 years\n",
      "423446               0  10 to 19 years\n",
      "423447               0    0 to 9 years\n",
      "\n",
      "[423448 rows x 2 columns]\n"
     ]
    }
   ],
   "source": [
    "column_names = ['Total Renewals', 'Age Range']\n",
    "subset = df[column_names]\n",
    "print(subset)"
   ]
  },
  {
   "cell_type": "code",
   "execution_count": 123,
   "metadata": {},
   "outputs": [
    {
     "name": "stdout",
     "output_type": "stream",
     "text": [
      "(25 to 34 years       91083\n",
      "35 to 44 years       67390\n",
      "10 to 19 years       58944\n",
      "45 to 54 years       52492\n",
      "0 to 9 years         38242\n",
      "65 to 74 years       30141\n",
      "20 to 24 years       29761\n",
      "55 to 59 years       21230\n",
      "60 to 64 years       19800\n",
      "75 years and over    14150\n",
      "Name: Age Range, dtype: int64, 'Total Renewals')\n"
     ]
    }
   ],
   "source": [
    "ar = df['Age Range'].value_counts(), 'Total Renewals'\n",
    "print(ar)"
   ]
  },
  {
   "cell_type": "code",
   "execution_count": 94,
   "metadata": {},
   "outputs": [
    {
     "name": "stdout",
     "output_type": "stream",
     "text": [
      "59.657327464056976\n"
     ]
    }
   ],
   "source": [
    "trm = df['Total Renewals'].mean()\n",
    "print(trm)"
   ]
  },
  {
   "cell_type": "code",
   "execution_count": 116,
   "metadata": {},
   "outputs": [
    {
     "data": {
      "text/html": [
       "<div>\n",
       "<style scoped>\n",
       "    .dataframe tbody tr th:only-of-type {\n",
       "        vertical-align: middle;\n",
       "    }\n",
       "\n",
       "    .dataframe tbody tr th {\n",
       "        vertical-align: top;\n",
       "    }\n",
       "\n",
       "    .dataframe thead th {\n",
       "        text-align: right;\n",
       "    }\n",
       "</style>\n",
       "<table border=\"1\" class=\"dataframe\">\n",
       "  <thead>\n",
       "    <tr style=\"text-align: right;\">\n",
       "      <th></th>\n",
       "      <th>Patron Type Code</th>\n",
       "      <th>Patron Type Definition</th>\n",
       "      <th>Total Checkouts</th>\n",
       "      <th>Total Renewals</th>\n",
       "      <th>Age Range</th>\n",
       "      <th>Home Library Code</th>\n",
       "      <th>Home Library Definition</th>\n",
       "      <th>Circulation Active Month</th>\n",
       "      <th>Circulation Active Year</th>\n",
       "      <th>Notice Preference Code</th>\n",
       "      <th>Notice Preference Definition</th>\n",
       "      <th>Provided Email Address</th>\n",
       "      <th>Year Patron Registered</th>\n",
       "      <th>Outside of County</th>\n",
       "      <th>Supervisor District</th>\n",
       "      <th>is age range summe</th>\n",
       "      <th>is total renewals mean</th>\n",
       "    </tr>\n",
       "  </thead>\n",
       "  <tbody>\n",
       "    <tr>\n",
       "      <td>287</td>\n",
       "      <td>1</td>\n",
       "      <td>JUVENILE</td>\n",
       "      <td>0</td>\n",
       "      <td>0</td>\n",
       "      <td>0 to 9 years</td>\n",
       "      <td>M6</td>\n",
       "      <td>Mission</td>\n",
       "      <td>NaN</td>\n",
       "      <td>NaN</td>\n",
       "      <td>p</td>\n",
       "      <td>phone</td>\n",
       "      <td>False</td>\n",
       "      <td>2014</td>\n",
       "      <td>False</td>\n",
       "      <td>6.0</td>\n",
       "      <td>NaN</td>\n",
       "      <td>59.657327</td>\n",
       "    </tr>\n",
       "    <tr>\n",
       "      <td>289</td>\n",
       "      <td>1</td>\n",
       "      <td>JUVENILE</td>\n",
       "      <td>20</td>\n",
       "      <td>0</td>\n",
       "      <td>0 to 9 years</td>\n",
       "      <td>E9</td>\n",
       "      <td>Excelsior</td>\n",
       "      <td>July</td>\n",
       "      <td>2016.0</td>\n",
       "      <td>z</td>\n",
       "      <td>email</td>\n",
       "      <td>True</td>\n",
       "      <td>2016</td>\n",
       "      <td>False</td>\n",
       "      <td>11.0</td>\n",
       "      <td>NaN</td>\n",
       "      <td>59.657327</td>\n",
       "    </tr>\n",
       "    <tr>\n",
       "      <td>291</td>\n",
       "      <td>1</td>\n",
       "      <td>JUVENILE</td>\n",
       "      <td>53</td>\n",
       "      <td>31</td>\n",
       "      <td>0 to 9 years</td>\n",
       "      <td>A5</td>\n",
       "      <td>Anza</td>\n",
       "      <td>June</td>\n",
       "      <td>2013.0</td>\n",
       "      <td>z</td>\n",
       "      <td>email</td>\n",
       "      <td>True</td>\n",
       "      <td>2012</td>\n",
       "      <td>False</td>\n",
       "      <td>1.0</td>\n",
       "      <td>NaN</td>\n",
       "      <td>59.657327</td>\n",
       "    </tr>\n",
       "    <tr>\n",
       "      <td>292</td>\n",
       "      <td>1</td>\n",
       "      <td>JUVENILE</td>\n",
       "      <td>1</td>\n",
       "      <td>0</td>\n",
       "      <td>0 to 9 years</td>\n",
       "      <td>O7</td>\n",
       "      <td>Ortega</td>\n",
       "      <td>June</td>\n",
       "      <td>2014.0</td>\n",
       "      <td>z</td>\n",
       "      <td>email</td>\n",
       "      <td>True</td>\n",
       "      <td>2014</td>\n",
       "      <td>False</td>\n",
       "      <td>5.0</td>\n",
       "      <td>NaN</td>\n",
       "      <td>59.657327</td>\n",
       "    </tr>\n",
       "    <tr>\n",
       "      <td>295</td>\n",
       "      <td>1</td>\n",
       "      <td>JUVENILE</td>\n",
       "      <td>0</td>\n",
       "      <td>0</td>\n",
       "      <td>0 to 9 years</td>\n",
       "      <td>A5</td>\n",
       "      <td>Anza</td>\n",
       "      <td>NaN</td>\n",
       "      <td>NaN</td>\n",
       "      <td>z</td>\n",
       "      <td>email</td>\n",
       "      <td>True</td>\n",
       "      <td>2016</td>\n",
       "      <td>False</td>\n",
       "      <td>8.0</td>\n",
       "      <td>NaN</td>\n",
       "      <td>59.657327</td>\n",
       "    </tr>\n",
       "    <tr>\n",
       "      <td>...</td>\n",
       "      <td>...</td>\n",
       "      <td>...</td>\n",
       "      <td>...</td>\n",
       "      <td>...</td>\n",
       "      <td>...</td>\n",
       "      <td>...</td>\n",
       "      <td>...</td>\n",
       "      <td>...</td>\n",
       "      <td>...</td>\n",
       "      <td>...</td>\n",
       "      <td>...</td>\n",
       "      <td>...</td>\n",
       "      <td>...</td>\n",
       "      <td>...</td>\n",
       "      <td>...</td>\n",
       "      <td>...</td>\n",
       "      <td>...</td>\n",
       "    </tr>\n",
       "    <tr>\n",
       "      <td>423434</td>\n",
       "      <td>1</td>\n",
       "      <td>JUVENILE</td>\n",
       "      <td>10</td>\n",
       "      <td>0</td>\n",
       "      <td>0 to 9 years</td>\n",
       "      <td>V3</td>\n",
       "      <td>Visitacion Valley</td>\n",
       "      <td>September</td>\n",
       "      <td>2015.0</td>\n",
       "      <td>p</td>\n",
       "      <td>phone</td>\n",
       "      <td>False</td>\n",
       "      <td>2012</td>\n",
       "      <td>False</td>\n",
       "      <td>10.0</td>\n",
       "      <td>NaN</td>\n",
       "      <td>59.657327</td>\n",
       "    </tr>\n",
       "    <tr>\n",
       "      <td>423437</td>\n",
       "      <td>1</td>\n",
       "      <td>JUVENILE</td>\n",
       "      <td>0</td>\n",
       "      <td>0</td>\n",
       "      <td>0 to 9 years</td>\n",
       "      <td>W4</td>\n",
       "      <td>Western Addition</td>\n",
       "      <td>NaN</td>\n",
       "      <td>NaN</td>\n",
       "      <td>z</td>\n",
       "      <td>email</td>\n",
       "      <td>True</td>\n",
       "      <td>2015</td>\n",
       "      <td>False</td>\n",
       "      <td>5.0</td>\n",
       "      <td>NaN</td>\n",
       "      <td>59.657327</td>\n",
       "    </tr>\n",
       "    <tr>\n",
       "      <td>423439</td>\n",
       "      <td>1</td>\n",
       "      <td>JUVENILE</td>\n",
       "      <td>0</td>\n",
       "      <td>0</td>\n",
       "      <td>0 to 9 years</td>\n",
       "      <td>N4</td>\n",
       "      <td>Noe Valley/Sally Brunn</td>\n",
       "      <td>NaN</td>\n",
       "      <td>NaN</td>\n",
       "      <td>z</td>\n",
       "      <td>email</td>\n",
       "      <td>True</td>\n",
       "      <td>2015</td>\n",
       "      <td>False</td>\n",
       "      <td>8.0</td>\n",
       "      <td>NaN</td>\n",
       "      <td>59.657327</td>\n",
       "    </tr>\n",
       "    <tr>\n",
       "      <td>423445</td>\n",
       "      <td>5</td>\n",
       "      <td>STAFF</td>\n",
       "      <td>208</td>\n",
       "      <td>58</td>\n",
       "      <td>0 to 9 years</td>\n",
       "      <td>B4</td>\n",
       "      <td>Bernal Heights</td>\n",
       "      <td>July</td>\n",
       "      <td>2016.0</td>\n",
       "      <td>z</td>\n",
       "      <td>email</td>\n",
       "      <td>True</td>\n",
       "      <td>2014</td>\n",
       "      <td>False</td>\n",
       "      <td>9.0</td>\n",
       "      <td>NaN</td>\n",
       "      <td>59.657327</td>\n",
       "    </tr>\n",
       "    <tr>\n",
       "      <td>423447</td>\n",
       "      <td>1</td>\n",
       "      <td>JUVENILE</td>\n",
       "      <td>0</td>\n",
       "      <td>0</td>\n",
       "      <td>0 to 9 years</td>\n",
       "      <td>E7</td>\n",
       "      <td>Eureka Valley/Harvey Milk Memorial</td>\n",
       "      <td>NaN</td>\n",
       "      <td>NaN</td>\n",
       "      <td>a</td>\n",
       "      <td>print</td>\n",
       "      <td>False</td>\n",
       "      <td>2015</td>\n",
       "      <td>False</td>\n",
       "      <td>8.0</td>\n",
       "      <td>NaN</td>\n",
       "      <td>59.657327</td>\n",
       "    </tr>\n",
       "  </tbody>\n",
       "</table>\n",
       "<p>38242 rows × 17 columns</p>\n",
       "</div>"
      ],
      "text/plain": [
       "        Patron Type Code Patron Type Definition  Total Checkouts  \\\n",
       "287                    1               JUVENILE                0   \n",
       "289                    1               JUVENILE               20   \n",
       "291                    1               JUVENILE               53   \n",
       "292                    1               JUVENILE                1   \n",
       "295                    1               JUVENILE                0   \n",
       "...                  ...                    ...              ...   \n",
       "423434                 1               JUVENILE               10   \n",
       "423437                 1               JUVENILE                0   \n",
       "423439                 1               JUVENILE                0   \n",
       "423445                 5                  STAFF              208   \n",
       "423447                 1               JUVENILE                0   \n",
       "\n",
       "        Total Renewals     Age Range Home Library Code  \\\n",
       "287                  0  0 to 9 years                M6   \n",
       "289                  0  0 to 9 years                E9   \n",
       "291                 31  0 to 9 years                A5   \n",
       "292                  0  0 to 9 years                O7   \n",
       "295                  0  0 to 9 years                A5   \n",
       "...                ...           ...               ...   \n",
       "423434               0  0 to 9 years                V3   \n",
       "423437               0  0 to 9 years                W4   \n",
       "423439               0  0 to 9 years                N4   \n",
       "423445              58  0 to 9 years                B4   \n",
       "423447               0  0 to 9 years                E7   \n",
       "\n",
       "                   Home Library Definition Circulation Active Month  \\\n",
       "287                                Mission                      NaN   \n",
       "289                              Excelsior                     July   \n",
       "291                                   Anza                     June   \n",
       "292                                 Ortega                     June   \n",
       "295                                   Anza                      NaN   \n",
       "...                                    ...                      ...   \n",
       "423434                   Visitacion Valley                September   \n",
       "423437                    Western Addition                      NaN   \n",
       "423439              Noe Valley/Sally Brunn                      NaN   \n",
       "423445                      Bernal Heights                     July   \n",
       "423447  Eureka Valley/Harvey Milk Memorial                      NaN   \n",
       "\n",
       "        Circulation Active Year Notice Preference Code  \\\n",
       "287                         NaN                      p   \n",
       "289                      2016.0                      z   \n",
       "291                      2013.0                      z   \n",
       "292                      2014.0                      z   \n",
       "295                         NaN                      z   \n",
       "...                         ...                    ...   \n",
       "423434                   2015.0                      p   \n",
       "423437                      NaN                      z   \n",
       "423439                      NaN                      z   \n",
       "423445                   2016.0                      z   \n",
       "423447                      NaN                      a   \n",
       "\n",
       "       Notice Preference Definition  Provided Email Address  \\\n",
       "287                           phone                   False   \n",
       "289                           email                    True   \n",
       "291                           email                    True   \n",
       "292                           email                    True   \n",
       "295                           email                    True   \n",
       "...                             ...                     ...   \n",
       "423434                        phone                   False   \n",
       "423437                        email                    True   \n",
       "423439                        email                    True   \n",
       "423445                        email                    True   \n",
       "423447                        print                   False   \n",
       "\n",
       "        Year Patron Registered  Outside of County  Supervisor District  \\\n",
       "287                       2014              False                  6.0   \n",
       "289                       2016              False                 11.0   \n",
       "291                       2012              False                  1.0   \n",
       "292                       2014              False                  5.0   \n",
       "295                       2016              False                  8.0   \n",
       "...                        ...                ...                  ...   \n",
       "423434                    2012              False                 10.0   \n",
       "423437                    2015              False                  5.0   \n",
       "423439                    2015              False                  8.0   \n",
       "423445                    2014              False                  9.0   \n",
       "423447                    2015              False                  8.0   \n",
       "\n",
       "        is age range summe  is total renewals mean  \n",
       "287                    NaN               59.657327  \n",
       "289                    NaN               59.657327  \n",
       "291                    NaN               59.657327  \n",
       "292                    NaN               59.657327  \n",
       "295                    NaN               59.657327  \n",
       "...                    ...                     ...  \n",
       "423434                 NaN               59.657327  \n",
       "423437                 NaN               59.657327  \n",
       "423439                 NaN               59.657327  \n",
       "423445                 NaN               59.657327  \n",
       "423447                 NaN               59.657327  \n",
       "\n",
       "[38242 rows x 17 columns]"
      ]
     },
     "execution_count": 116,
     "metadata": {},
     "output_type": "execute_result"
    }
   ],
   "source": [
    "filter_totalrenew_age = (df['Age Range'] == '0 to 9 years') & (df['Total Renewals'] >= 0)\n",
    "df.loc[filter_totalrenew_age]"
   ]
  },
  {
   "cell_type": "code",
   "execution_count": 126,
   "metadata": {},
   "outputs": [],
   "source": [
    "df_filterage0to9 = df.loc[filter_totalrenew_age]"
   ]
  },
  {
   "cell_type": "code",
   "execution_count": 130,
   "metadata": {},
   "outputs": [
    {
     "data": {
      "text/html": [
       "<div>\n",
       "<style scoped>\n",
       "    .dataframe tbody tr th:only-of-type {\n",
       "        vertical-align: middle;\n",
       "    }\n",
       "\n",
       "    .dataframe tbody tr th {\n",
       "        vertical-align: top;\n",
       "    }\n",
       "\n",
       "    .dataframe thead th {\n",
       "        text-align: right;\n",
       "    }\n",
       "</style>\n",
       "<table border=\"1\" class=\"dataframe\">\n",
       "  <thead>\n",
       "    <tr style=\"text-align: right;\">\n",
       "      <th></th>\n",
       "      <th>Patron Type Code</th>\n",
       "      <th>Patron Type Definition</th>\n",
       "      <th>Total Checkouts</th>\n",
       "      <th>Total Renewals</th>\n",
       "      <th>Age Range</th>\n",
       "      <th>Home Library Code</th>\n",
       "      <th>Home Library Definition</th>\n",
       "      <th>Circulation Active Month</th>\n",
       "      <th>Circulation Active Year</th>\n",
       "      <th>Notice Preference Code</th>\n",
       "      <th>Notice Preference Definition</th>\n",
       "      <th>Provided Email Address</th>\n",
       "      <th>Year Patron Registered</th>\n",
       "      <th>Outside of County</th>\n",
       "      <th>Supervisor District</th>\n",
       "      <th>is age range summe</th>\n",
       "      <th>is total renewals mean</th>\n",
       "    </tr>\n",
       "  </thead>\n",
       "  <tbody>\n",
       "    <tr>\n",
       "      <td>287</td>\n",
       "      <td>1</td>\n",
       "      <td>JUVENILE</td>\n",
       "      <td>0</td>\n",
       "      <td>0</td>\n",
       "      <td>0 to 9 years</td>\n",
       "      <td>M6</td>\n",
       "      <td>Mission</td>\n",
       "      <td>NaN</td>\n",
       "      <td>NaN</td>\n",
       "      <td>p</td>\n",
       "      <td>phone</td>\n",
       "      <td>False</td>\n",
       "      <td>2014</td>\n",
       "      <td>False</td>\n",
       "      <td>6.0</td>\n",
       "      <td>NaN</td>\n",
       "      <td>59.657327</td>\n",
       "    </tr>\n",
       "    <tr>\n",
       "      <td>289</td>\n",
       "      <td>1</td>\n",
       "      <td>JUVENILE</td>\n",
       "      <td>20</td>\n",
       "      <td>0</td>\n",
       "      <td>0 to 9 years</td>\n",
       "      <td>E9</td>\n",
       "      <td>Excelsior</td>\n",
       "      <td>July</td>\n",
       "      <td>2016.0</td>\n",
       "      <td>z</td>\n",
       "      <td>email</td>\n",
       "      <td>True</td>\n",
       "      <td>2016</td>\n",
       "      <td>False</td>\n",
       "      <td>11.0</td>\n",
       "      <td>NaN</td>\n",
       "      <td>59.657327</td>\n",
       "    </tr>\n",
       "    <tr>\n",
       "      <td>291</td>\n",
       "      <td>1</td>\n",
       "      <td>JUVENILE</td>\n",
       "      <td>53</td>\n",
       "      <td>31</td>\n",
       "      <td>0 to 9 years</td>\n",
       "      <td>A5</td>\n",
       "      <td>Anza</td>\n",
       "      <td>June</td>\n",
       "      <td>2013.0</td>\n",
       "      <td>z</td>\n",
       "      <td>email</td>\n",
       "      <td>True</td>\n",
       "      <td>2012</td>\n",
       "      <td>False</td>\n",
       "      <td>1.0</td>\n",
       "      <td>NaN</td>\n",
       "      <td>59.657327</td>\n",
       "    </tr>\n",
       "    <tr>\n",
       "      <td>292</td>\n",
       "      <td>1</td>\n",
       "      <td>JUVENILE</td>\n",
       "      <td>1</td>\n",
       "      <td>0</td>\n",
       "      <td>0 to 9 years</td>\n",
       "      <td>O7</td>\n",
       "      <td>Ortega</td>\n",
       "      <td>June</td>\n",
       "      <td>2014.0</td>\n",
       "      <td>z</td>\n",
       "      <td>email</td>\n",
       "      <td>True</td>\n",
       "      <td>2014</td>\n",
       "      <td>False</td>\n",
       "      <td>5.0</td>\n",
       "      <td>NaN</td>\n",
       "      <td>59.657327</td>\n",
       "    </tr>\n",
       "    <tr>\n",
       "      <td>295</td>\n",
       "      <td>1</td>\n",
       "      <td>JUVENILE</td>\n",
       "      <td>0</td>\n",
       "      <td>0</td>\n",
       "      <td>0 to 9 years</td>\n",
       "      <td>A5</td>\n",
       "      <td>Anza</td>\n",
       "      <td>NaN</td>\n",
       "      <td>NaN</td>\n",
       "      <td>z</td>\n",
       "      <td>email</td>\n",
       "      <td>True</td>\n",
       "      <td>2016</td>\n",
       "      <td>False</td>\n",
       "      <td>8.0</td>\n",
       "      <td>NaN</td>\n",
       "      <td>59.657327</td>\n",
       "    </tr>\n",
       "    <tr>\n",
       "      <td>...</td>\n",
       "      <td>...</td>\n",
       "      <td>...</td>\n",
       "      <td>...</td>\n",
       "      <td>...</td>\n",
       "      <td>...</td>\n",
       "      <td>...</td>\n",
       "      <td>...</td>\n",
       "      <td>...</td>\n",
       "      <td>...</td>\n",
       "      <td>...</td>\n",
       "      <td>...</td>\n",
       "      <td>...</td>\n",
       "      <td>...</td>\n",
       "      <td>...</td>\n",
       "      <td>...</td>\n",
       "      <td>...</td>\n",
       "      <td>...</td>\n",
       "    </tr>\n",
       "    <tr>\n",
       "      <td>423434</td>\n",
       "      <td>1</td>\n",
       "      <td>JUVENILE</td>\n",
       "      <td>10</td>\n",
       "      <td>0</td>\n",
       "      <td>0 to 9 years</td>\n",
       "      <td>V3</td>\n",
       "      <td>Visitacion Valley</td>\n",
       "      <td>September</td>\n",
       "      <td>2015.0</td>\n",
       "      <td>p</td>\n",
       "      <td>phone</td>\n",
       "      <td>False</td>\n",
       "      <td>2012</td>\n",
       "      <td>False</td>\n",
       "      <td>10.0</td>\n",
       "      <td>NaN</td>\n",
       "      <td>59.657327</td>\n",
       "    </tr>\n",
       "    <tr>\n",
       "      <td>423437</td>\n",
       "      <td>1</td>\n",
       "      <td>JUVENILE</td>\n",
       "      <td>0</td>\n",
       "      <td>0</td>\n",
       "      <td>0 to 9 years</td>\n",
       "      <td>W4</td>\n",
       "      <td>Western Addition</td>\n",
       "      <td>NaN</td>\n",
       "      <td>NaN</td>\n",
       "      <td>z</td>\n",
       "      <td>email</td>\n",
       "      <td>True</td>\n",
       "      <td>2015</td>\n",
       "      <td>False</td>\n",
       "      <td>5.0</td>\n",
       "      <td>NaN</td>\n",
       "      <td>59.657327</td>\n",
       "    </tr>\n",
       "    <tr>\n",
       "      <td>423439</td>\n",
       "      <td>1</td>\n",
       "      <td>JUVENILE</td>\n",
       "      <td>0</td>\n",
       "      <td>0</td>\n",
       "      <td>0 to 9 years</td>\n",
       "      <td>N4</td>\n",
       "      <td>Noe Valley/Sally Brunn</td>\n",
       "      <td>NaN</td>\n",
       "      <td>NaN</td>\n",
       "      <td>z</td>\n",
       "      <td>email</td>\n",
       "      <td>True</td>\n",
       "      <td>2015</td>\n",
       "      <td>False</td>\n",
       "      <td>8.0</td>\n",
       "      <td>NaN</td>\n",
       "      <td>59.657327</td>\n",
       "    </tr>\n",
       "    <tr>\n",
       "      <td>423445</td>\n",
       "      <td>5</td>\n",
       "      <td>STAFF</td>\n",
       "      <td>208</td>\n",
       "      <td>58</td>\n",
       "      <td>0 to 9 years</td>\n",
       "      <td>B4</td>\n",
       "      <td>Bernal Heights</td>\n",
       "      <td>July</td>\n",
       "      <td>2016.0</td>\n",
       "      <td>z</td>\n",
       "      <td>email</td>\n",
       "      <td>True</td>\n",
       "      <td>2014</td>\n",
       "      <td>False</td>\n",
       "      <td>9.0</td>\n",
       "      <td>NaN</td>\n",
       "      <td>59.657327</td>\n",
       "    </tr>\n",
       "    <tr>\n",
       "      <td>423447</td>\n",
       "      <td>1</td>\n",
       "      <td>JUVENILE</td>\n",
       "      <td>0</td>\n",
       "      <td>0</td>\n",
       "      <td>0 to 9 years</td>\n",
       "      <td>E7</td>\n",
       "      <td>Eureka Valley/Harvey Milk Memorial</td>\n",
       "      <td>NaN</td>\n",
       "      <td>NaN</td>\n",
       "      <td>a</td>\n",
       "      <td>print</td>\n",
       "      <td>False</td>\n",
       "      <td>2015</td>\n",
       "      <td>False</td>\n",
       "      <td>8.0</td>\n",
       "      <td>NaN</td>\n",
       "      <td>59.657327</td>\n",
       "    </tr>\n",
       "  </tbody>\n",
       "</table>\n",
       "<p>38242 rows × 17 columns</p>\n",
       "</div>"
      ],
      "text/plain": [
       "        Patron Type Code Patron Type Definition  Total Checkouts  \\\n",
       "287                    1               JUVENILE                0   \n",
       "289                    1               JUVENILE               20   \n",
       "291                    1               JUVENILE               53   \n",
       "292                    1               JUVENILE                1   \n",
       "295                    1               JUVENILE                0   \n",
       "...                  ...                    ...              ...   \n",
       "423434                 1               JUVENILE               10   \n",
       "423437                 1               JUVENILE                0   \n",
       "423439                 1               JUVENILE                0   \n",
       "423445                 5                  STAFF              208   \n",
       "423447                 1               JUVENILE                0   \n",
       "\n",
       "        Total Renewals     Age Range Home Library Code  \\\n",
       "287                  0  0 to 9 years                M6   \n",
       "289                  0  0 to 9 years                E9   \n",
       "291                 31  0 to 9 years                A5   \n",
       "292                  0  0 to 9 years                O7   \n",
       "295                  0  0 to 9 years                A5   \n",
       "...                ...           ...               ...   \n",
       "423434               0  0 to 9 years                V3   \n",
       "423437               0  0 to 9 years                W4   \n",
       "423439               0  0 to 9 years                N4   \n",
       "423445              58  0 to 9 years                B4   \n",
       "423447               0  0 to 9 years                E7   \n",
       "\n",
       "                   Home Library Definition Circulation Active Month  \\\n",
       "287                                Mission                      NaN   \n",
       "289                              Excelsior                     July   \n",
       "291                                   Anza                     June   \n",
       "292                                 Ortega                     June   \n",
       "295                                   Anza                      NaN   \n",
       "...                                    ...                      ...   \n",
       "423434                   Visitacion Valley                September   \n",
       "423437                    Western Addition                      NaN   \n",
       "423439              Noe Valley/Sally Brunn                      NaN   \n",
       "423445                      Bernal Heights                     July   \n",
       "423447  Eureka Valley/Harvey Milk Memorial                      NaN   \n",
       "\n",
       "        Circulation Active Year Notice Preference Code  \\\n",
       "287                         NaN                      p   \n",
       "289                      2016.0                      z   \n",
       "291                      2013.0                      z   \n",
       "292                      2014.0                      z   \n",
       "295                         NaN                      z   \n",
       "...                         ...                    ...   \n",
       "423434                   2015.0                      p   \n",
       "423437                      NaN                      z   \n",
       "423439                      NaN                      z   \n",
       "423445                   2016.0                      z   \n",
       "423447                      NaN                      a   \n",
       "\n",
       "       Notice Preference Definition  Provided Email Address  \\\n",
       "287                           phone                   False   \n",
       "289                           email                    True   \n",
       "291                           email                    True   \n",
       "292                           email                    True   \n",
       "295                           email                    True   \n",
       "...                             ...                     ...   \n",
       "423434                        phone                   False   \n",
       "423437                        email                    True   \n",
       "423439                        email                    True   \n",
       "423445                        email                    True   \n",
       "423447                        print                   False   \n",
       "\n",
       "        Year Patron Registered  Outside of County  Supervisor District  \\\n",
       "287                       2014              False                  6.0   \n",
       "289                       2016              False                 11.0   \n",
       "291                       2012              False                  1.0   \n",
       "292                       2014              False                  5.0   \n",
       "295                       2016              False                  8.0   \n",
       "...                        ...                ...                  ...   \n",
       "423434                    2012              False                 10.0   \n",
       "423437                    2015              False                  5.0   \n",
       "423439                    2015              False                  8.0   \n",
       "423445                    2014              False                  9.0   \n",
       "423447                    2015              False                  8.0   \n",
       "\n",
       "        is age range summe  is total renewals mean  \n",
       "287                    NaN               59.657327  \n",
       "289                    NaN               59.657327  \n",
       "291                    NaN               59.657327  \n",
       "292                    NaN               59.657327  \n",
       "295                    NaN               59.657327  \n",
       "...                    ...                     ...  \n",
       "423434                 NaN               59.657327  \n",
       "423437                 NaN               59.657327  \n",
       "423439                 NaN               59.657327  \n",
       "423445                 NaN               59.657327  \n",
       "423447                 NaN               59.657327  \n",
       "\n",
       "[38242 rows x 17 columns]"
      ]
     },
     "execution_count": 130,
     "metadata": {},
     "output_type": "execute_result"
    }
   ],
   "source": [
    "df_filterage0to9"
   ]
  },
  {
   "cell_type": "code",
   "execution_count": 131,
   "metadata": {},
   "outputs": [
    {
     "data": {
      "text/plain": [
       "43.98062339835783"
      ]
     },
     "execution_count": 131,
     "metadata": {},
     "output_type": "execute_result"
    }
   ],
   "source": [
    "#Und das ist die mittlere Verlängerungsrate für die Altergruppe 0-9\n",
    "df_filterage0to9['Total Renewals'].mean()"
   ]
  },
  {
   "cell_type": "code",
   "execution_count": 132,
   "metadata": {},
   "outputs": [
    {
     "data": {
      "text/html": [
       "<div>\n",
       "<style scoped>\n",
       "    .dataframe tbody tr th:only-of-type {\n",
       "        vertical-align: middle;\n",
       "    }\n",
       "\n",
       "    .dataframe tbody tr th {\n",
       "        vertical-align: top;\n",
       "    }\n",
       "\n",
       "    .dataframe thead th {\n",
       "        text-align: right;\n",
       "    }\n",
       "</style>\n",
       "<table border=\"1\" class=\"dataframe\">\n",
       "  <thead>\n",
       "    <tr style=\"text-align: right;\">\n",
       "      <th></th>\n",
       "      <th>Patron Type Code</th>\n",
       "      <th>Patron Type Definition</th>\n",
       "      <th>Total Checkouts</th>\n",
       "      <th>Total Renewals</th>\n",
       "      <th>Age Range</th>\n",
       "      <th>Home Library Code</th>\n",
       "      <th>Home Library Definition</th>\n",
       "      <th>Circulation Active Month</th>\n",
       "      <th>Circulation Active Year</th>\n",
       "      <th>Notice Preference Code</th>\n",
       "      <th>Notice Preference Definition</th>\n",
       "      <th>Provided Email Address</th>\n",
       "      <th>Year Patron Registered</th>\n",
       "      <th>Outside of County</th>\n",
       "      <th>Supervisor District</th>\n",
       "      <th>is age range summe</th>\n",
       "      <th>is total renewals mean</th>\n",
       "    </tr>\n",
       "  </thead>\n",
       "  <tbody>\n",
       "    <tr>\n",
       "      <td>283</td>\n",
       "      <td>1</td>\n",
       "      <td>JUVENILE</td>\n",
       "      <td>67</td>\n",
       "      <td>1</td>\n",
       "      <td>10 to 19 years</td>\n",
       "      <td>R3</td>\n",
       "      <td>Richmond</td>\n",
       "      <td>June</td>\n",
       "      <td>2014.0</td>\n",
       "      <td>p</td>\n",
       "      <td>phone</td>\n",
       "      <td>True</td>\n",
       "      <td>2010</td>\n",
       "      <td>False</td>\n",
       "      <td>5.0</td>\n",
       "      <td>NaN</td>\n",
       "      <td>59.657327</td>\n",
       "    </tr>\n",
       "    <tr>\n",
       "      <td>288</td>\n",
       "      <td>0</td>\n",
       "      <td>ADULT</td>\n",
       "      <td>0</td>\n",
       "      <td>0</td>\n",
       "      <td>10 to 19 years</td>\n",
       "      <td>X</td>\n",
       "      <td>Main Library</td>\n",
       "      <td>NaN</td>\n",
       "      <td>NaN</td>\n",
       "      <td>z</td>\n",
       "      <td>email</td>\n",
       "      <td>True</td>\n",
       "      <td>2012</td>\n",
       "      <td>True</td>\n",
       "      <td>NaN</td>\n",
       "      <td>NaN</td>\n",
       "      <td>59.657327</td>\n",
       "    </tr>\n",
       "    <tr>\n",
       "      <td>290</td>\n",
       "      <td>0</td>\n",
       "      <td>ADULT</td>\n",
       "      <td>0</td>\n",
       "      <td>0</td>\n",
       "      <td>10 to 19 years</td>\n",
       "      <td>M4</td>\n",
       "      <td>Merced</td>\n",
       "      <td>NaN</td>\n",
       "      <td>NaN</td>\n",
       "      <td>z</td>\n",
       "      <td>email</td>\n",
       "      <td>True</td>\n",
       "      <td>2011</td>\n",
       "      <td>False</td>\n",
       "      <td>4.0</td>\n",
       "      <td>NaN</td>\n",
       "      <td>59.657327</td>\n",
       "    </tr>\n",
       "    <tr>\n",
       "      <td>297</td>\n",
       "      <td>2</td>\n",
       "      <td>YOUNG ADULT</td>\n",
       "      <td>802</td>\n",
       "      <td>42</td>\n",
       "      <td>10 to 19 years</td>\n",
       "      <td>O7</td>\n",
       "      <td>Ortega</td>\n",
       "      <td>April</td>\n",
       "      <td>2016.0</td>\n",
       "      <td>p</td>\n",
       "      <td>phone</td>\n",
       "      <td>True</td>\n",
       "      <td>2003</td>\n",
       "      <td>False</td>\n",
       "      <td>NaN</td>\n",
       "      <td>NaN</td>\n",
       "      <td>59.657327</td>\n",
       "    </tr>\n",
       "    <tr>\n",
       "      <td>304</td>\n",
       "      <td>0</td>\n",
       "      <td>ADULT</td>\n",
       "      <td>0</td>\n",
       "      <td>0</td>\n",
       "      <td>10 to 19 years</td>\n",
       "      <td>O7</td>\n",
       "      <td>Ortega</td>\n",
       "      <td>NaN</td>\n",
       "      <td>NaN</td>\n",
       "      <td>z</td>\n",
       "      <td>email</td>\n",
       "      <td>True</td>\n",
       "      <td>2016</td>\n",
       "      <td>False</td>\n",
       "      <td>4.0</td>\n",
       "      <td>NaN</td>\n",
       "      <td>59.657327</td>\n",
       "    </tr>\n",
       "    <tr>\n",
       "      <td>...</td>\n",
       "      <td>...</td>\n",
       "      <td>...</td>\n",
       "      <td>...</td>\n",
       "      <td>...</td>\n",
       "      <td>...</td>\n",
       "      <td>...</td>\n",
       "      <td>...</td>\n",
       "      <td>...</td>\n",
       "      <td>...</td>\n",
       "      <td>...</td>\n",
       "      <td>...</td>\n",
       "      <td>...</td>\n",
       "      <td>...</td>\n",
       "      <td>...</td>\n",
       "      <td>...</td>\n",
       "      <td>...</td>\n",
       "      <td>...</td>\n",
       "    </tr>\n",
       "    <tr>\n",
       "      <td>423438</td>\n",
       "      <td>0</td>\n",
       "      <td>ADULT</td>\n",
       "      <td>0</td>\n",
       "      <td>0</td>\n",
       "      <td>10 to 19 years</td>\n",
       "      <td>W4</td>\n",
       "      <td>Western Addition</td>\n",
       "      <td>NaN</td>\n",
       "      <td>NaN</td>\n",
       "      <td>z</td>\n",
       "      <td>email</td>\n",
       "      <td>True</td>\n",
       "      <td>2015</td>\n",
       "      <td>True</td>\n",
       "      <td>NaN</td>\n",
       "      <td>NaN</td>\n",
       "      <td>59.657327</td>\n",
       "    </tr>\n",
       "    <tr>\n",
       "      <td>423440</td>\n",
       "      <td>2</td>\n",
       "      <td>YOUNG ADULT</td>\n",
       "      <td>42</td>\n",
       "      <td>53</td>\n",
       "      <td>10 to 19 years</td>\n",
       "      <td>M4</td>\n",
       "      <td>Merced</td>\n",
       "      <td>June</td>\n",
       "      <td>2014.0</td>\n",
       "      <td>p</td>\n",
       "      <td>phone</td>\n",
       "      <td>False</td>\n",
       "      <td>2011</td>\n",
       "      <td>True</td>\n",
       "      <td>NaN</td>\n",
       "      <td>NaN</td>\n",
       "      <td>59.657327</td>\n",
       "    </tr>\n",
       "    <tr>\n",
       "      <td>423442</td>\n",
       "      <td>2</td>\n",
       "      <td>YOUNG ADULT</td>\n",
       "      <td>608</td>\n",
       "      <td>364</td>\n",
       "      <td>10 to 19 years</td>\n",
       "      <td>S7</td>\n",
       "      <td>Sunset</td>\n",
       "      <td>July</td>\n",
       "      <td>2016.0</td>\n",
       "      <td>z</td>\n",
       "      <td>email</td>\n",
       "      <td>True</td>\n",
       "      <td>2003</td>\n",
       "      <td>False</td>\n",
       "      <td>7.0</td>\n",
       "      <td>NaN</td>\n",
       "      <td>59.657327</td>\n",
       "    </tr>\n",
       "    <tr>\n",
       "      <td>423443</td>\n",
       "      <td>0</td>\n",
       "      <td>ADULT</td>\n",
       "      <td>291</td>\n",
       "      <td>13</td>\n",
       "      <td>10 to 19 years</td>\n",
       "      <td>P5</td>\n",
       "      <td>Portola</td>\n",
       "      <td>March</td>\n",
       "      <td>2015.0</td>\n",
       "      <td>p</td>\n",
       "      <td>phone</td>\n",
       "      <td>False</td>\n",
       "      <td>2009</td>\n",
       "      <td>False</td>\n",
       "      <td>9.0</td>\n",
       "      <td>NaN</td>\n",
       "      <td>59.657327</td>\n",
       "    </tr>\n",
       "    <tr>\n",
       "      <td>423446</td>\n",
       "      <td>0</td>\n",
       "      <td>ADULT</td>\n",
       "      <td>26</td>\n",
       "      <td>0</td>\n",
       "      <td>10 to 19 years</td>\n",
       "      <td>M6</td>\n",
       "      <td>Mission</td>\n",
       "      <td>April</td>\n",
       "      <td>2015.0</td>\n",
       "      <td>z</td>\n",
       "      <td>email</td>\n",
       "      <td>True</td>\n",
       "      <td>2003</td>\n",
       "      <td>False</td>\n",
       "      <td>9.0</td>\n",
       "      <td>NaN</td>\n",
       "      <td>59.657327</td>\n",
       "    </tr>\n",
       "  </tbody>\n",
       "</table>\n",
       "<p>58944 rows × 17 columns</p>\n",
       "</div>"
      ],
      "text/plain": [
       "        Patron Type Code Patron Type Definition  Total Checkouts  \\\n",
       "283                    1               JUVENILE               67   \n",
       "288                    0                  ADULT                0   \n",
       "290                    0                  ADULT                0   \n",
       "297                    2            YOUNG ADULT              802   \n",
       "304                    0                  ADULT                0   \n",
       "...                  ...                    ...              ...   \n",
       "423438                 0                  ADULT                0   \n",
       "423440                 2            YOUNG ADULT               42   \n",
       "423442                 2            YOUNG ADULT              608   \n",
       "423443                 0                  ADULT              291   \n",
       "423446                 0                  ADULT               26   \n",
       "\n",
       "        Total Renewals       Age Range Home Library Code  \\\n",
       "283                  1  10 to 19 years                R3   \n",
       "288                  0  10 to 19 years                 X   \n",
       "290                  0  10 to 19 years                M4   \n",
       "297                 42  10 to 19 years                O7   \n",
       "304                  0  10 to 19 years                O7   \n",
       "...                ...             ...               ...   \n",
       "423438               0  10 to 19 years                W4   \n",
       "423440              53  10 to 19 years                M4   \n",
       "423442             364  10 to 19 years                S7   \n",
       "423443              13  10 to 19 years                P5   \n",
       "423446               0  10 to 19 years                M6   \n",
       "\n",
       "       Home Library Definition Circulation Active Month  \\\n",
       "283                   Richmond                     June   \n",
       "288               Main Library                      NaN   \n",
       "290                     Merced                      NaN   \n",
       "297                     Ortega                    April   \n",
       "304                     Ortega                      NaN   \n",
       "...                        ...                      ...   \n",
       "423438        Western Addition                      NaN   \n",
       "423440                  Merced                     June   \n",
       "423442                  Sunset                     July   \n",
       "423443                 Portola                    March   \n",
       "423446                 Mission                    April   \n",
       "\n",
       "        Circulation Active Year Notice Preference Code  \\\n",
       "283                      2014.0                      p   \n",
       "288                         NaN                      z   \n",
       "290                         NaN                      z   \n",
       "297                      2016.0                      p   \n",
       "304                         NaN                      z   \n",
       "...                         ...                    ...   \n",
       "423438                      NaN                      z   \n",
       "423440                   2014.0                      p   \n",
       "423442                   2016.0                      z   \n",
       "423443                   2015.0                      p   \n",
       "423446                   2015.0                      z   \n",
       "\n",
       "       Notice Preference Definition  Provided Email Address  \\\n",
       "283                           phone                    True   \n",
       "288                           email                    True   \n",
       "290                           email                    True   \n",
       "297                           phone                    True   \n",
       "304                           email                    True   \n",
       "...                             ...                     ...   \n",
       "423438                        email                    True   \n",
       "423440                        phone                   False   \n",
       "423442                        email                    True   \n",
       "423443                        phone                   False   \n",
       "423446                        email                    True   \n",
       "\n",
       "        Year Patron Registered  Outside of County  Supervisor District  \\\n",
       "283                       2010              False                  5.0   \n",
       "288                       2012               True                  NaN   \n",
       "290                       2011              False                  4.0   \n",
       "297                       2003              False                  NaN   \n",
       "304                       2016              False                  4.0   \n",
       "...                        ...                ...                  ...   \n",
       "423438                    2015               True                  NaN   \n",
       "423440                    2011               True                  NaN   \n",
       "423442                    2003              False                  7.0   \n",
       "423443                    2009              False                  9.0   \n",
       "423446                    2003              False                  9.0   \n",
       "\n",
       "        is age range summe  is total renewals mean  \n",
       "283                    NaN               59.657327  \n",
       "288                    NaN               59.657327  \n",
       "290                    NaN               59.657327  \n",
       "297                    NaN               59.657327  \n",
       "304                    NaN               59.657327  \n",
       "...                    ...                     ...  \n",
       "423438                 NaN               59.657327  \n",
       "423440                 NaN               59.657327  \n",
       "423442                 NaN               59.657327  \n",
       "423443                 NaN               59.657327  \n",
       "423446                 NaN               59.657327  \n",
       "\n",
       "[58944 rows x 17 columns]"
      ]
     },
     "execution_count": 132,
     "metadata": {},
     "output_type": "execute_result"
    }
   ],
   "source": [
    "filter_totalrenew_age_1 = (df['Age Range'] == '10 to 19 years') & (df['Total Renewals'] >= 0)\n",
    "df.loc[filter_totalrenew_age_1]"
   ]
  },
  {
   "cell_type": "code",
   "execution_count": 134,
   "metadata": {},
   "outputs": [
    {
     "data": {
      "text/plain": [
       "53.083825325732896"
      ]
     },
     "execution_count": 134,
     "metadata": {},
     "output_type": "execute_result"
    }
   ],
   "source": [
    "#Und das ist die mittlere Verlängerungsrate für die Altergruppe 10-19 Jahre\n",
    "df_filterage10to19 = df.loc[filter_totalrenew_age_1]\n",
    "df_filterage10to19['Total Renewals'].mean()"
   ]
  },
  {
   "cell_type": "code",
   "execution_count": 137,
   "metadata": {},
   "outputs": [
    {
     "data": {
      "text/plain": [
       "25 to 34 years       91083\n",
       "35 to 44 years       67390\n",
       "10 to 19 years       58944\n",
       "45 to 54 years       52492\n",
       "0 to 9 years         38242\n",
       "65 to 74 years       30141\n",
       "20 to 24 years       29761\n",
       "55 to 59 years       21230\n",
       "60 to 64 years       19800\n",
       "75 years and over    14150\n",
       "Name: Age Range, dtype: int64"
      ]
     },
     "execution_count": 137,
     "metadata": {},
     "output_type": "execute_result"
    }
   ],
   "source": [
    "df['Age Range'].value_counts()"
   ]
  },
  {
   "cell_type": "code",
   "execution_count": 140,
   "metadata": {},
   "outputs": [],
   "source": [
    "#Das Ganze mal ein bisschen abkürzen? Geht das?\n",
    "filter_totalrenew_age_2 = (df['Age Range'] == '20 to 24 years') & (df['Total Renewals'] >= 0)\n",
    "df.loc[filter_totalrenew_age_2]\n",
    "df_filterage20to24 = df.loc[filter_totalrenew_age_2]\n",
    "filter_totalrenew_age_3 = (df['Age Range'] == '25 to 34 years') & (df['Total Renewals'] >= 0)\n",
    "df.loc[filter_totalrenew_age_3]\n",
    "df_filterage25to34 = df.loc[filter_totalrenew_age_3]\n",
    "filter_totalrenew_age_4 = (df['Age Range'] == '35 to 44 years') & (df['Total Renewals'] >= 0)\n",
    "df.loc[filter_totalrenew_age_4]\n",
    "df_filterage35to44 = df.loc[filter_totalrenew_age_4]\n",
    "filter_totalrenew_age_5 = (df['Age Range'] == '45 to 54 years') & (df['Total Renewals'] >= 0)\n",
    "df.loc[filter_totalrenew_age_5]\n",
    "df_filterage45to54 = df.loc[filter_totalrenew_age_5]\n",
    "filter_totalrenew_age_6 = (df['Age Range'] == '55 to 59 years') & (df['Total Renewals'] >= 0)\n",
    "df.loc[filter_totalrenew_age_6]\n",
    "df_filterage55to59 = df.loc[filter_totalrenew_age_6]\n",
    "filter_totalrenew_age_7 = (df['Age Range'] == '60 to 64 years') & (df['Total Renewals'] >= 0)\n",
    "df.loc[filter_totalrenew_age_7]\n",
    "df_filterage60to64 = df.loc[filter_totalrenew_age_7]\n",
    "filter_totalrenew_age_8 = (df['Age Range'] == '65 to 74 years') & (df['Total Renewals'] >= 0)\n",
    "df.loc[filter_totalrenew_age_8]\n",
    "df_filterage65to74 = df.loc[filter_totalrenew_age_8]\n",
    "filter_totalrenew_age_9 = (df['Age Range'] == '75 years and older') & (df['Total Renewals'] >= 0)\n",
    "df.loc[filter_totalrenew_age_9]\n",
    "df_filterage75older = df.loc[filter_totalrenew_age_9]"
   ]
  },
  {
   "cell_type": "code",
   "execution_count": 142,
   "metadata": {},
   "outputs": [
    {
     "data": {
      "text/plain": [
       "43.98062339835783"
      ]
     },
     "execution_count": 142,
     "metadata": {},
     "output_type": "execute_result"
    }
   ],
   "source": [
    "df_filterage0to9['Total Renewals'].mean()"
   ]
  },
  {
   "cell_type": "code",
   "execution_count": 143,
   "metadata": {},
   "outputs": [
    {
     "data": {
      "text/plain": [
       "53.083825325732896"
      ]
     },
     "execution_count": 143,
     "metadata": {},
     "output_type": "execute_result"
    }
   ],
   "source": [
    "df_filterage10to19['Total Renewals'].mean()"
   ]
  },
  {
   "cell_type": "code",
   "execution_count": 144,
   "metadata": {},
   "outputs": [
    {
     "data": {
      "text/plain": [
       "35.57004132925641"
      ]
     },
     "execution_count": 144,
     "metadata": {},
     "output_type": "execute_result"
    }
   ],
   "source": [
    "df_filterage20to24['Total Renewals'].mean()"
   ]
  },
  {
   "cell_type": "code",
   "execution_count": 145,
   "metadata": {},
   "outputs": [
    {
     "data": {
      "text/plain": [
       "28.68843801807143"
      ]
     },
     "execution_count": 145,
     "metadata": {},
     "output_type": "execute_result"
    }
   ],
   "source": [
    "df_filterage25to34['Total Renewals'].mean()"
   ]
  },
  {
   "cell_type": "code",
   "execution_count": 146,
   "metadata": {},
   "outputs": [
    {
     "data": {
      "text/plain": [
       "58.727823119157144"
      ]
     },
     "execution_count": 146,
     "metadata": {},
     "output_type": "execute_result"
    }
   ],
   "source": [
    "df_filterage35to44['Total Renewals'].mean()"
   ]
  },
  {
   "cell_type": "code",
   "execution_count": 147,
   "metadata": {},
   "outputs": [
    {
     "data": {
      "text/plain": [
       "85.79821687114227"
      ]
     },
     "execution_count": 147,
     "metadata": {},
     "output_type": "execute_result"
    }
   ],
   "source": [
    "df_filterage45to54['Total Renewals'].mean()"
   ]
  },
  {
   "cell_type": "code",
   "execution_count": 148,
   "metadata": {},
   "outputs": [
    {
     "data": {
      "text/plain": [
       "99.9107395195478"
      ]
     },
     "execution_count": 148,
     "metadata": {},
     "output_type": "execute_result"
    }
   ],
   "source": [
    "df_filterage55to59['Total Renewals'].mean()"
   ]
  },
  {
   "cell_type": "code",
   "execution_count": 149,
   "metadata": {},
   "outputs": [
    {
     "data": {
      "text/plain": [
       "104.08621212121213"
      ]
     },
     "execution_count": 149,
     "metadata": {},
     "output_type": "execute_result"
    }
   ],
   "source": [
    "df_filterage60to64['Total Renewals'].mean()"
   ]
  },
  {
   "cell_type": "code",
   "execution_count": 150,
   "metadata": {},
   "outputs": [
    {
     "data": {
      "text/plain": [
       "100.38794333300156"
      ]
     },
     "execution_count": 150,
     "metadata": {},
     "output_type": "execute_result"
    }
   ],
   "source": [
    "df_filterage65to74['Total Renewals'].mean()"
   ]
  },
  {
   "cell_type": "code",
   "execution_count": 153,
   "metadata": {},
   "outputs": [
    {
     "data": {
      "text/plain": [
       "nan"
      ]
     },
     "execution_count": 153,
     "metadata": {},
     "output_type": "execute_result"
    }
   ],
   "source": [
    "df_filterage75older['Total Renewals'].mean()"
   ]
  },
  {
   "cell_type": "code",
   "execution_count": 154,
   "metadata": {},
   "outputs": [
    {
     "data": {
      "text/html": [
       "<div>\n",
       "<style scoped>\n",
       "    .dataframe tbody tr th:only-of-type {\n",
       "        vertical-align: middle;\n",
       "    }\n",
       "\n",
       "    .dataframe tbody tr th {\n",
       "        vertical-align: top;\n",
       "    }\n",
       "\n",
       "    .dataframe thead th {\n",
       "        text-align: right;\n",
       "    }\n",
       "</style>\n",
       "<table border=\"1\" class=\"dataframe\">\n",
       "  <thead>\n",
       "    <tr style=\"text-align: right;\">\n",
       "      <th></th>\n",
       "      <th>Patron Type Code</th>\n",
       "      <th>Patron Type Definition</th>\n",
       "      <th>Total Checkouts</th>\n",
       "      <th>Total Renewals</th>\n",
       "      <th>Age Range</th>\n",
       "      <th>Home Library Code</th>\n",
       "      <th>Home Library Definition</th>\n",
       "      <th>Circulation Active Month</th>\n",
       "      <th>Circulation Active Year</th>\n",
       "      <th>Notice Preference Code</th>\n",
       "      <th>Notice Preference Definition</th>\n",
       "      <th>Provided Email Address</th>\n",
       "      <th>Year Patron Registered</th>\n",
       "      <th>Outside of County</th>\n",
       "      <th>Supervisor District</th>\n",
       "      <th>is age range summe</th>\n",
       "      <th>is total renewals mean</th>\n",
       "    </tr>\n",
       "  </thead>\n",
       "  <tbody>\n",
       "  </tbody>\n",
       "</table>\n",
       "</div>"
      ],
      "text/plain": [
       "Empty DataFrame\n",
       "Columns: [Patron Type Code, Patron Type Definition, Total Checkouts, Total Renewals, Age Range, Home Library Code, Home Library Definition, Circulation Active Month, Circulation Active Year, Notice Preference Code, Notice Preference Definition, Provided Email Address, Year Patron Registered, Outside of County, Supervisor District, is age range summe, is total renewals mean]\n",
       "Index: []"
      ]
     },
     "execution_count": 154,
     "metadata": {},
     "output_type": "execute_result"
    }
   ],
   "source": [
    "df_filterage75older"
   ]
  },
  {
   "cell_type": "code",
   "execution_count": null,
   "metadata": {},
   "outputs": [],
   "source": [
    "#Antwort auf Frage 5 - Teilfrage: Altergruppe 60 bis 64 verlängert im Mittel die meisten Bücher."
   ]
  },
  {
   "cell_type": "code",
   "execution_count": 155,
   "metadata": {},
   "outputs": [
    {
     "data": {
      "text/plain": [
       "1.33479042692986"
      ]
     },
     "execution_count": 155,
     "metadata": {},
     "output_type": "execute_result"
    }
   ],
   "source": [
    "#Frage 5 Ist die Streuung zwischen den Gruppen gleich? --> Varianzkoeffizient für jede Altersgruppe berechnen\n",
    "df_filterage0to9['Total Renewals'].std()/df_filterage0to9['Total Checkouts'].mean()"
   ]
  },
  {
   "cell_type": "code",
   "execution_count": 156,
   "metadata": {},
   "outputs": [
    {
     "data": {
      "text/plain": [
       "0.7420003358799706"
      ]
     },
     "execution_count": 156,
     "metadata": {},
     "output_type": "execute_result"
    }
   ],
   "source": [
    "df_filterage10to19['Total Renewals'].std()/df_filterage10to19['Total Checkouts'].mean()"
   ]
  },
  {
   "cell_type": "code",
   "execution_count": 157,
   "metadata": {},
   "outputs": [
    {
     "data": {
      "text/plain": [
       "1.2093377282089017"
      ]
     },
     "execution_count": 157,
     "metadata": {},
     "output_type": "execute_result"
    }
   ],
   "source": [
    "df_filterage20to24['Total Renewals'].std()/df_filterage20to24['Total Checkouts'].mean()"
   ]
  },
  {
   "cell_type": "code",
   "execution_count": 158,
   "metadata": {},
   "outputs": [
    {
     "data": {
      "text/plain": [
       "2.4366416747071558"
      ]
     },
     "execution_count": 158,
     "metadata": {},
     "output_type": "execute_result"
    }
   ],
   "source": [
    "df_filterage25to34['Total Renewals'].std()/df_filterage25to34['Total Checkouts'].mean()"
   ]
  },
  {
   "cell_type": "code",
   "execution_count": 159,
   "metadata": {},
   "outputs": [
    {
     "data": {
      "text/plain": [
       "1.8291690466825523"
      ]
     },
     "execution_count": 159,
     "metadata": {},
     "output_type": "execute_result"
    }
   ],
   "source": [
    "df_filterage35to44['Total Renewals'].std()/df_filterage35to44['Total Checkouts'].mean()"
   ]
  },
  {
   "cell_type": "code",
   "execution_count": 160,
   "metadata": {},
   "outputs": [
    {
     "data": {
      "text/plain": [
       "1.473982785783054"
      ]
     },
     "execution_count": 160,
     "metadata": {},
     "output_type": "execute_result"
    }
   ],
   "source": [
    "df_filterage45to54['Total Renewals'].std()/df_filterage45to54['Total Checkouts'].mean()"
   ]
  },
  {
   "cell_type": "code",
   "execution_count": 161,
   "metadata": {},
   "outputs": [
    {
     "data": {
      "text/plain": [
       "1.3861878174457254"
      ]
     },
     "execution_count": 161,
     "metadata": {},
     "output_type": "execute_result"
    }
   ],
   "source": [
    "df_filterage55to59['Total Renewals'].std()/df_filterage55to59['Total Checkouts'].mean()"
   ]
  },
  {
   "cell_type": "code",
   "execution_count": 162,
   "metadata": {},
   "outputs": [
    {
     "data": {
      "text/plain": [
       "1.2400686475044658"
      ]
     },
     "execution_count": 162,
     "metadata": {},
     "output_type": "execute_result"
    }
   ],
   "source": [
    "df_filterage60to64['Total Renewals'].std()/df_filterage60to64['Total Checkouts'].mean()"
   ]
  },
  {
   "cell_type": "code",
   "execution_count": 163,
   "metadata": {},
   "outputs": [
    {
     "data": {
      "text/plain": [
       "1.1647743669576525"
      ]
     },
     "execution_count": 163,
     "metadata": {},
     "output_type": "execute_result"
    }
   ],
   "source": [
    "df_filterage65to74['Total Renewals'].std()/df_filterage65to74['Total Checkouts'].mean()"
   ]
  },
  {
   "cell_type": "code",
   "execution_count": 164,
   "metadata": {},
   "outputs": [
    {
     "data": {
      "text/plain": [
       "nan"
      ]
     },
     "execution_count": 164,
     "metadata": {},
     "output_type": "execute_result"
    }
   ],
   "source": [
    "df_filterage75older['Total Renewals'].std()/df_filterage75older['Total Checkouts'].mean()"
   ]
  },
  {
   "cell_type": "code",
   "execution_count": null,
   "metadata": {},
   "outputs": [],
   "source": [
    "#Antwort Teilfrage 5 - Streuung: Streuung bei allen Altersgruppen unterschiedlich."
   ]
  },
  {
   "cell_type": "code",
   "execution_count": null,
   "metadata": {},
   "outputs": [],
   "source": [
    "#Grundsätzliche Fragen für den Präsenztag\n",
    "#Wie kriegt man Kreuztabellen gut visualisiert?\n",
    "#Wie hätte ich Frage 5 abkürzen können?\n",
    "#Noch ein paar mehr praktische Visualisierungen zeigen, wäre super."
   ]
  }
 ],
 "metadata": {
  "kernelspec": {
   "display_name": "Python 3",
   "language": "python",
   "name": "python3"
  }
 },
 "nbformat": 4,
 "nbformat_minor": 2
}
